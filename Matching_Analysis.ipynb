{
 "cells": [
  {
   "cell_type": "code",
   "execution_count": 1,
   "metadata": {
    "collapsed": true
   },
   "outputs": [],
   "source": [
    "import pandas as pd\n",
    "import numpy as np\n",
    "import csv\n",
    "import matplotlib.pyplot as plt\n",
    "import sqlite3\n",
    "import re\n",
    "from collections import defaultdict\n",
    "\n",
    "def read_dictionary(filename):\n",
    "    \"\"\"\n",
    "    Opens the indicated filename and creates a list line by line using the first entry on each line\n",
    "    as the key and the second as the value\n",
    "    \"\"\"\n",
    "    dictionaryoutput = {}\n",
    "    with open(filename) as file:\n",
    "        entries = csv.reader(file)\n",
    "        for item in entries:\n",
    "            dictionaryoutput[item[0]] = item[1]\n",
    "    return dictionaryoutput\n",
    "\n",
    "def write_dict(outputfilename, dictionary):\n",
    "    \"\"\"\n",
    "    Writes a dictionary to a csv.\n",
    "    \"\"\"\n",
    "    # May want to modify this code to pickle the key and value and alter the read dictionary to do the same.\n",
    "\n",
    "    with open(outputfilename, 'w', newline='') as outfile:\n",
    "        for key, value in dictionary.items():\n",
    "            outfile.write('%s,%s\\n' % (key, value))\n",
    "            \n",
    "def write_list(outputfilename, list):\n",
    "    \"\"\"\n",
    "    Writes a list to a csv.\n",
    "    \"\"\"\n",
    "    with open(outputfilename, 'w', newline='') as outfile:\n",
    "        itemwriter = csv.writer(outfile, delimiter=\",\")\n",
    "        for item in list:\n",
    "            itemwriter.writerow(item)\n",
    "            \n",
    "def read_list(filename):\n",
    "    \"\"\"\n",
    "    Opens the indicated filename and creates a list line by line\n",
    "    \"\"\"\n",
    "    listoutput = []\n",
    "    with open(filename) as file:\n",
    "        entries = csv.reader(file)\n",
    "        for item in entries:\n",
    "            listoutput.append(item)\n",
    "    return listoutput\n",
    "\n",
    "ABRDict = read_dictionary('C:\\\\Dropbox\\\\Dropbox\\\\HAXz\\\\CBBTO\\\\espn_scraper\\\\ABRdictionary.csv')\n",
    "NUMDict = read_dictionary('C:\\\\Dropbox\\\\Dropbox\\\\HAXz\\\\CBBTO\\\\espn_scraper\\\\NUMdictionary.csv')\n"
   ]
  },
  {
   "cell_type": "code",
   "execution_count": 2,
   "metadata": {
    "collapsed": true
   },
   "outputs": [],
   "source": [
    "conn = sqlite3.connect('C:\\\\Dropbox\\\\Dropbox\\\\HAXz\\\\CBBTO\\\\data\\\\CBBdb.sqlite3')\n",
    "curr = conn.cursor()\n",
    "\n",
    "# Exclude bad data\n",
    "# It might be possible to salvage some of these games\n",
    "data = pd.read_sql_query(\"\"\"SELECT rowid,*\n",
    "                        FROM playbyplay\n",
    "                        WHERE game_id not in ('253240066', '253510006', '260692440', '283190221',\n",
    "                        '283192166', '283190201', '293170264', '283342390', '293172633', '303172239', '290450275',\n",
    "                        '280472483', '283472390', '290450275', '290650087', '293170041', '260280218', '263240150', \n",
    "                        '270170222', '400498526', '400591228', '273332603', '310630171', '253190235', '253532250', \n",
    "                        '260020150', '253180142', '253340120', '253422250', '260072608', '260120204', '260230221',\n",
    "                        '260282507', '260282294', '260310275', '260360152', '263240096', '263330221', '263330264',\n",
    "                        '263400057', '263572305', '270090275', '270130062', '270152305', '270150097', '270160254',\n",
    "                        '270232390', '270272305', '270380201', '270460012', '270462509', '270550079', '270672440',\n",
    "                        '270670120', '273212501', '273512250', '273532086', '280030305', '280050103',                        280430258, 280562306, 280590097, 280612181, '280612181', '280660356', '280730235', '283310153',\n",
    "                        '283402181', '283420052', '290092561', '290350026', '290452752', '290490235',\n",
    "                        '290530183', '290592550', '290660277', '293130153', '293160194', '293172509', '293200041',\n",
    "                        '293290012', '293392509', '293410251', '293540059', '300090167', '300300096', '303120356',\n",
    "                        '303160127', '303160062', '303170068', '303172181', '303170036', '303180150', '303180084',\n",
    "                        '303200097', '303250152', '303300222', '303310251', '303320127', '303360239', '303390030',\n",
    "                        '303452350', '303480251', '303500142', '303520082', '303580326', '310052633', '310070315',\n",
    "                        '310090150', '310122599', '310120046', '310120142', '310150145', '310200264', '310350163',\n",
    "                        '310360097', '310562099', '313160275', '313310221', '313500140', '320140077', '320490305',\n",
    "                        '323280057', '323300038', '323330156', '330012506', '330712065', '400498358', '400502811',\n",
    "                        '400507286', '400545134', '400597751', '400589302', '400589302', '400585776', '400586395',\n",
    "                        '400835654', '400869965')\"\"\", conn)\n",
    "\n",
    "\n",
    "\n",
    "conn.close()\n",
    "\n",
    "# Ensure that numbers are numeric values and not strings.\n",
    "data = data.apply(pd.to_numeric,errors='ignore')\n"
   ]
  },
  {
   "cell_type": "code",
   "execution_count": null,
   "metadata": {},
   "outputs": [
    {
     "data": {
      "text/html": [
       "<div>\n",
       "<style>\n",
       "    .dataframe thead tr:only-child th {\n",
       "        text-align: right;\n",
       "    }\n",
       "\n",
       "    .dataframe thead th {\n",
       "        text-align: left;\n",
       "    }\n",
       "\n",
       "    .dataframe tbody tr th {\n",
       "        vertical-align: top;\n",
       "    }\n",
       "</style>\n",
       "<table border=\"1\" class=\"dataframe\">\n",
       "  <thead>\n",
       "    <tr style=\"text-align: right;\">\n",
       "      <th></th>\n",
       "      <th>rowid</th>\n",
       "      <th>game_id</th>\n",
       "      <th>date</th>\n",
       "      <th>event_index</th>\n",
       "      <th>time</th>\n",
       "      <th>actor</th>\n",
       "      <th>event</th>\n",
       "      <th>away</th>\n",
       "      <th>home</th>\n",
       "      <th>away_score</th>\n",
       "      <th>home_score</th>\n",
       "    </tr>\n",
       "  </thead>\n",
       "  <tbody>\n",
       "    <tr>\n",
       "      <th>0</th>\n",
       "      <td>1</td>\n",
       "      <td>253120183</td>\n",
       "      <td>2005-11-09</td>\n",
       "      <td>0</td>\n",
       "      <td>1194</td>\n",
       "      <td>183</td>\n",
       "      <td>Darryl Watkins missed Two Point Layup.</td>\n",
       "      <td>BCU</td>\n",
       "      <td>SYR</td>\n",
       "      <td>0</td>\n",
       "      <td>0</td>\n",
       "    </tr>\n",
       "    <tr>\n",
       "      <th>1</th>\n",
       "      <td>2</td>\n",
       "      <td>253120183</td>\n",
       "      <td>2005-11-09</td>\n",
       "      <td>1</td>\n",
       "      <td>1176</td>\n",
       "      <td>183</td>\n",
       "      <td>Louie McCroskey made Three Point Jumper.</td>\n",
       "      <td>BCU</td>\n",
       "      <td>SYR</td>\n",
       "      <td>0</td>\n",
       "      <td>3</td>\n",
       "    </tr>\n",
       "  </tbody>\n",
       "</table>\n",
       "</div>"
      ],
      "text/plain": [
       "   rowid    game_id        date  event_index  time  actor  \\\n",
       "0      1  253120183  2005-11-09            0  1194    183   \n",
       "1      2  253120183  2005-11-09            1  1176    183   \n",
       "\n",
       "                                      event away home  away_score  home_score  \n",
       "0    Darryl Watkins missed Two Point Layup.  BCU  SYR           0           0  \n",
       "1  Louie McCroskey made Three Point Jumper.  BCU  SYR           0           3  "
      ]
     },
     "execution_count": 3,
     "metadata": {},
     "output_type": "execute_result"
    }
   ],
   "source": [
    "data.head(2)"
   ]
  },
  {
   "cell_type": "code",
   "execution_count": null,
   "metadata": {},
   "outputs": [],
   "source": [
    "# We need to divide games into periods so that we don't span halftime,\n",
    "# overtime periods or different games.\n",
    "\n",
    "# Add each half/ot to periods list\n",
    "periods = []\n",
    "lastindex = 0\n",
    "lasttime = data.iloc[0]['time']\n",
    "for i, row in data.iterrows():\n",
    "    time = row['time']\n",
    "    if time > lasttime + 1:\n",
    "        period = data[lastindex:i]\n",
    "        period['game_id'].values[0]\n",
    "        periods.append(data[lastindex:i])\n",
    "        lastindex = i\n",
    "    lasttime = time\n",
    "    \n",
    "#Add the last period\n",
    "periods.append(data[lastindex:i])"
   ]
  },
  {
   "cell_type": "code",
   "execution_count": null,
   "metadata": {},
   "outputs": [],
   "source": [
    "# This method is a lot more sensitive to out of order events\n",
    "bad_games = []\n",
    "game_sequences = []\n",
    "last_game_id = -1\n",
    "for period in periods:\n",
    "    game_id = period.game_id.values[0]\n",
    "    # Should be O(n) to add to strings\n",
    "    # https://stackoverflow.com/questions/4435169/good-way-to-append-to-a-string\n",
    "    game_sequence = ''\n",
    "    # We carry the halftime/overtime score and reset on a new game \n",
    "    if game_id != last_game_id:\n",
    "        last_home = 0\n",
    "        last_away = 0\n",
    "    for i,row in period.iterrows():\n",
    "        # Excluding last 90 seconds\n",
    "        if row.time < 90:\n",
    "            break\n",
    "        points = (row.home_score - last_home) - (row.away_score - last_away)\n",
    "        # We need to make sure that this is accurate, otherwise 2 digit scores throw off the analysis\n",
    "        if points > 3 or points < -3:\n",
    "            # This should be empty, so we aren't going to continue or break\n",
    "            bad_games.append(row.game_id)\n",
    "        last_home = row.home_score\n",
    "        last_away = row.away_score\n",
    "        if 'timeout' in row.event.lower():\n",
    "            if 'tv' in row.event.lower():\n",
    "                game_sequence += 'OT'\n",
    "            if row.actor != -1:\n",
    "                if NUMDict[str(row.actor)] in ABRDict[row.home]:\n",
    "                    game_sequence += 'HT'\n",
    "                elif NUMDict[str(row.actor)] in ABRDict[row.away]:\n",
    "                    game_sequence += 'AT'\n",
    "            else:\n",
    "                 game_sequence += 'UT'\n",
    "        elif points > 0:\n",
    "            game_sequence += 'H' + str(points)\n",
    "        elif points < 0: \n",
    "            game_sequence += 'A' + str(abs(points))\n",
    "    # Get current values so we can make sure we have the correct starting score \n",
    "    last_game_id = game_id\n",
    "    last_home = period.iloc[-1].home_score\n",
    "    last_away = period.iloc[-1].away_score\n",
    "            \n",
    "    game_sequences.append([game_id, game_sequence])\n",
    "\n",
    "# Check a random value to make sure it's correct\n",
    "print(game_sequences[123])\n",
    "print(bad_games)"
   ]
  },
  {
   "cell_type": "code",
   "execution_count": null,
   "metadata": {},
   "outputs": [],
   "source": [
    "# Some of the above is a bit slow so we can read/write here\n",
    "#write_list('game_sequences.csv', game_sequences)\n",
    "#game_sequences = read_list('game_sequences.csv')"
   ]
  },
  {
   "cell_type": "code",
   "execution_count": null,
   "metadata": {},
   "outputs": [],
   "source": [
    "# We need to use collections.defaultdict to append list items to a dictionary key \n",
    "# See Python Docs\n",
    "\n",
    "full_run_dictionary = defaultdict(list)\n",
    "for period in game_sequences:       \n",
    "    for start,end in [(m.start(0), m.end(0)) for m in re.finditer(r\"H[1-3][H1-3]+\", period[1])]: # Make sure we get at least 2 baskets\n",
    "        run = period[1][start:end]\n",
    "        sequence = period[1][end:end+10]  # Surprising that this hasn't thrown an error yet?\n",
    "        try:\n",
    "            full_run_dictionary[run].append(sequence)\n",
    "        except:\n",
    "            full_run_dictionary[run] = [sequence]    \n",
    "    for start,end in [(m.start(0), m.end(0)) for m in re.finditer(r\"A[1-3][A1-3]+\", period[1])]:\n",
    "        run =  period[1][start:end]\n",
    "        sequence = period[1][end:end+8]\n",
    "        try:           \n",
    "            full_run_dictionary[run].append(sequence)\n",
    "        except:\n",
    "            full_run_dictionary[run] = [sequence]\n",
    "            \n",
    "\n",
    "print(full_run_dictionary)"
   ]
  },
  {
   "cell_type": "code",
   "execution_count": null,
   "metadata": {},
   "outputs": [],
   "source": [
    "# Here we find out how much each sequence is worth and the scores after the timeout\n",
    "# We produce a list of [run_sequence, value of run, [values of post TO sequences]]\n",
    "TO_run_count = 0\n",
    "other_count = 0\n",
    "score_histograms = []\n",
    "for key in full_run_dictionary:\n",
    "    run_value = 0\n",
    "    for c in str(key):\n",
    "        if c in 'OUT':\n",
    "            print('=========ERROR========')\n",
    "        elif c == 'A':\n",
    "            sign = -1\n",
    "        elif c == 'H':\n",
    "            sign = 1\n",
    "        else:\n",
    "            run_value += sign * int(c)\n",
    "    if run_value == 0:\n",
    "        print(key)\n",
    "    score_histograms.append([key, run_value])\n",
    "    seq_values = []\n",
    "    to_seq_values = []\n",
    "    h_seq_values = []\n",
    "    a_seq_values = []\n",
    "    o_seq_values = []\n",
    "    TO_run = False\n",
    "    for seq in full_run_dictionary[key]:\n",
    "        TO_run = 'T' in str(seq)[:2]\n",
    "        try:\n",
    "            caller = str(seq)[0]\n",
    "        except:\n",
    "            # Empty list\n",
    "            continue\n",
    "        seq_value = 0\n",
    "        to = False\n",
    "        for c in str(seq):\n",
    "            # We are going to set the value of turnovers to 0 because we\n",
    "            # want to be able to subtract the last item so TO runs and non-TO runs\n",
    "            # have the same length\n",
    "            if to == True:\n",
    "                c = 0\n",
    "                to = False\n",
    "            elif c in 'OUT':\n",
    "                to = True\n",
    "                c = 0\n",
    "                continue\n",
    "            elif c == 'A':\n",
    "                sign = -1\n",
    "            elif c == 'H':\n",
    "                sign = 1\n",
    "            else:\n",
    "                seq_value += sign * int(c)\n",
    "        if TO_run:\n",
    "            to_seq_values.append(seq_value)\n",
    "            if caller == 'A':\n",
    "                a_seq_values.append(seq_value)\n",
    "            elif caller == 'H':\n",
    "                h_seq_values.append(seq_value)\n",
    "            elif caller == 'O':\n",
    "                o_seq_values.append(seq_value) \n",
    "            # Not using else because I still need to fix the bad actor entires (i.e., -1)\n",
    "        else:\n",
    "            # We knoew for a fact that the first event after the other sequences are TOs\n",
    "            # and that the first even after this sequence isn't a TO, so we want to use the same number of events\n",
    "            # Might be worth identifying more timeout situations\n",
    "            try:\n",
    "                seq_values.append(seq_value - sign * int(c))\n",
    "            except:\n",
    "                print(seq)\n",
    "\n",
    "    score_histograms[-1].append([seq_values, to_seq_values, a_seq_values.append(seq_value), h_seq_values.append(seq_value), o_seq_values.append(seq_value)])\n",
    "        \n",
    "print(len(score_histograms))"
   ]
  },
  {
   "cell_type": "code",
   "execution_count": null,
   "metadata": {},
   "outputs": [],
   "source": [
    "for elm in score_histograms:\n",
    "    print(len(elm[2][0]))"
   ]
  },
  {
   "cell_type": "code",
   "execution_count": null,
   "metadata": {},
   "outputs": [],
   "source": [
    "# Plot histograms for all of different found sequences\n",
    "for gram in score_histograms:\n",
    "    plt.hist(gram[2][0], bins=10, alpha=0.5, label='No TO')\n",
    "    plt.hist(gram[2][1], bins=10, alpha=0.5, label='TO')\n",
    "    plt.hist(gram[2][2], bins=10, alpha=0.5, label='Away TO')\n",
    "    plt.hist(gram[2][3], bins=10, alpha=0.5, label='Home TO')\n",
    "    plt.hist(gram[2][4], bins=10, alpha=0.5, label='Official TO')\n",
    "    plt.legend(loc='upper right')\n",
    "    plt.title(gram[0] + ' -- Run Value: ' + str(gram[1]))\n",
    "    plt.show()"
   ]
  },
  {
   "cell_type": "code",
   "execution_count": null,
   "metadata": {},
   "outputs": [],
   "source": [
    "min_run = 0\n",
    "max_run = 0\n",
    "for extremes in score_histograms:\n",
    "    if extremes[1] < min_run:\n",
    "        min_run = extremes[1]\n",
    "    if extremes[1] > max_run:\n",
    "        max_run = extremes[1]\n",
    "combined_by_value = [[] for i in range(max_run - min_run+1)]\n",
    "\n",
    "for record in score_histograms:\n",
    "    combined_by_value[record[1]-min_run].extend(record[2])\n",
    "        "
   ]
  },
  {
   "cell_type": "code",
   "execution_count": null,
   "metadata": {},
   "outputs": [],
   "source": [
    "h_values = []\n",
    "h_averages = []\n",
    "a_values = []\n",
    "a_averages = []\n",
    "for i,histo in enumerate(combined_by_value):\n",
    "    if len(histo) == 0:\n",
    "        continue\n",
    "    \n",
    "    plt.hist(histo, bins=15, color='r', alpha=1, label='diff')\n",
    "    plt.title('Run Value: ' + str(i+min_run) + ' -- Average Post Timeout: ' + '{:.2f}'.format(sum(histo)/len(histo)))\n",
    "    plt.show()\n",
    "    \n",
    "    if i+min_run > 0 and i+min_run < 15:\n",
    "        h_values.append(i+min_run)\n",
    "        h_averages.append(sum(histo)/len(histo))\n",
    "    elif i+min_run < 0: # Don't want i+min_run > 15\n",
    "        a_values.append(i+min_run)\n",
    "        a_averages.append(sum(histo)/len(histo))"
   ]
  },
  {
   "cell_type": "code",
   "execution_count": null,
   "metadata": {},
   "outputs": [],
   "source": [
    "plt.scatter(h_values, h_averages)\n",
    "plt.show()"
   ]
  },
  {
   "cell_type": "code",
   "execution_count": null,
   "metadata": {},
   "outputs": [],
   "source": [
    "plt.scatter(a_values, a_averages)\n",
    "plt.show()"
   ]
  },
  {
   "cell_type": "code",
   "execution_count": null,
   "metadata": {},
   "outputs": [],
   "source": []
  },
  {
   "cell_type": "code",
   "execution_count": null,
   "metadata": {
    "collapsed": true
   },
   "outputs": [],
   "source": []
  },
  {
   "cell_type": "code",
   "execution_count": null,
   "metadata": {
    "collapsed": true
   },
   "outputs": [],
   "source": []
  },
  {
   "cell_type": "code",
   "execution_count": null,
   "metadata": {
    "collapsed": true
   },
   "outputs": [],
   "source": []
  },
  {
   "cell_type": "code",
   "execution_count": null,
   "metadata": {
    "collapsed": true
   },
   "outputs": [],
   "source": []
  },
  {
   "cell_type": "code",
   "execution_count": null,
   "metadata": {
    "collapsed": true
   },
   "outputs": [],
   "source": []
  },
  {
   "cell_type": "code",
   "execution_count": null,
   "metadata": {
    "collapsed": true
   },
   "outputs": [],
   "source": []
  },
  {
   "cell_type": "code",
   "execution_count": null,
   "metadata": {
    "collapsed": true
   },
   "outputs": [],
   "source": []
  },
  {
   "cell_type": "code",
   "execution_count": null,
   "metadata": {
    "collapsed": true
   },
   "outputs": [],
   "source": []
  },
  {
   "cell_type": "code",
   "execution_count": null,
   "metadata": {
    "collapsed": true
   },
   "outputs": [],
   "source": [
    "#data.loc[(data.game_id == 253120183)]"
   ]
  },
  {
   "cell_type": "code",
   "execution_count": null,
   "metadata": {},
   "outputs": [],
   "source": [
    "# Nice little alert to let me know when the Notebook has finished\n",
    "from IPython.display import HTML\n",
    "HTML('''<script>\n",
    "alert('Done!')\n",
    "</script>''')"
   ]
  }
 ],
 "metadata": {
  "kernelspec": {
   "display_name": "Python 3",
   "language": "python",
   "name": "python3"
  },
  "language_info": {
   "codemirror_mode": {
    "name": "ipython",
    "version": 3
   },
   "file_extension": ".py",
   "mimetype": "text/x-python",
   "name": "python",
   "nbconvert_exporter": "python",
   "pygments_lexer": "ipython3",
   "version": "3.6.2"
  }
 },
 "nbformat": 4,
 "nbformat_minor": 2
}
