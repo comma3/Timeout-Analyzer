{
 "cells": [
  {
   "cell_type": "markdown",
   "metadata": {},
   "source": [
    "### \"Call a daggum timeout!\"\n",
    "\n",
    "-Roy Williams, probably never\n",
    "\n",
    "## Introduction\n",
    "\n",
    "Basketball fans generally believe that calling timeouts can slow or stop scoring runs. Certain coaches (famously, Roy Williams) are often criticized for not calling a timeout in an attempt to end a run. However, to the best of my knowledge, this general wisdom has never been tested nor supported by any actual analysis. Previously, I explored this relationship using Bayesian statistics to suggest that calling a timeout either has no effect or even decreases the probability of runs ending.\n",
    "\n",
    "However, this analysis was flawed, largely because 1. the criteria for \"ending\" a run are unclear, and 2. there are so many timeouts in college basketball that the baseline rate was perhaps inaccurate. In this analysis, we look at the expected value of a timeout by categorizing scoring runs by their point values and comparing the sequences of events that occur after that timeout (or lack thereof). The high frequency of timeouts once again complicates the analysis as it seems questionable to consider a timeout effective if multiple are required.\n",
    "\n",
    "## Background\n",
    "\n",
    "Scoring runs are expected in any contest just by chance. This can easily be seen from simple coin flips. If a team is expected to convert 50% of their possessions (equivalent to a coin flip), then they can be expected to convert several in a row while the other team converts none. In this way, scoring runs should occur in most basketball contests. In the same way, these scoring runs should be expected to follow similar probability distributions for when they end. That is, after a scoring run starts, it should have a predictable probability of ending due to the same probabilities. I am going to show that calling a timeout either does not speed up the rate at which a run ends or even negatively increases the value of the run (both teams get to use the timeout, why wouldn't the running team also be able to rest and improve their strategy?).\n",
    "\n",
    "In other words, I believe that far too much emphasis is placed on \"momentum\", and players should be expected to recognize these \"slumps\" and \"streaks\" as statistically probable events; that is, these scoring streaks and slumps should be expected to regress to the mean over time and end naturally.\n",
    "\n",
    "Another factor in real basketball games that needs to be considered is the fact that basketball has very frequent time stoppages. In this analysis, stoppages other than timeouts will not be included as causes for \"settling\" a run, but it stands to reason that timeouts become even less necessary when other time stoppages are considered, as the break in play provides time for quick communication from a coach, substitution of players for tired/injured/otherwise hindered players or better match ups, and, more importantly, settling \"frazzled\" players, which is the most common justification for this strategy. In future works, I'd like to explore whether this conjecture about the positive effects of other stoppages in play is true.\n",
    "\n",
    "Additionally, I believe that experience with these events, i.e., \"playing through\" a cold streak or weathering runs towards the ends of games, results in increased overall win percentage and, in particular, post-season success. In the future, I'd also like to perform a similar analysis on games presumably lost due to running out of timeouts. <a href=\"https://youtu.be/7HhZBaCAa80?t=702\">Here's a nice example.</a>\n",
    "\n",
    "<b>Disclaimer: This is all an exercise in probability and data scraping. I do believe that there are mental components to athletic contests, and scoring is not independent of these factors. However, I think that a coach could easily coach their team to not expect or wait for timeouts in the case of runs, and it would not have a negative effect on their performance.</b>\n",
    "\n",
    "## Methods\n",
    "\n",
    "In this analysis, we are matching exact sequences to other sequences and determining what happened after those sequences, which will reduce the impact that our selected criteria have on the results. Briefly, the method consists of converting the scores into a code H or A indicating Home or Away followed by the value of the basket (1-3) or a T for timeout (OT for official timeouts). This method produces a string like \"H2H2H2A2H2OTATH2A2H3OTHTH1H1A2\". We then use a regular expression search to find all sequences that look like a run. This method is substantially faster than the previous approach, so we examine much shorter sequences than in the previous report.\n",
    "\n",
    "After finding sequences that match the run criteria, we collect the next 6 events (TOs and scores). We then divide the runs based on the event that ended the run (TO by type, including no TO) and record the different score values after the the end of the run. We then only take the next 4 scores in these sequences, throwing out sequences where 2 of the next 5 events where timeouts. We do not further penalize these sequences. However, I believe this type of sequence should be considered as a \"failure\" for the losing team."
   ]
  },
  {
   "cell_type": "code",
   "execution_count": 198,
   "metadata": {},
   "outputs": [
    {
     "data": {
      "text/html": [
       "<script>\n",
       "code_show=true; \n",
       "function code_toggle() {\n",
       " if (code_show){\n",
       " $('div.input').hide();\n",
       " } else {\n",
       " $('div.input').show();\n",
       " }\n",
       " code_show = !code_show\n",
       "} \n",
       "$( document ).ready(code_toggle);\n",
       "</script>\n",
       "The raw code for this IPython notebook is hidden by default for easier reading.\n",
       "To toggle on/off the raw code, click <a href=\"javascript:code_toggle()\">here</a>. \n",
       "Some of the analysis may be a bit disjoint without the comments in the code. If you are\n",
       "comfortable reading Python, consider viewing the code, althought it can be a bit long at times."
      ],
      "text/plain": [
       "<IPython.core.display.HTML object>"
      ]
     },
     "execution_count": 198,
     "metadata": {},
     "output_type": "execute_result"
    }
   ],
   "source": [
    "from IPython.display import HTML\n",
    "HTML('''<script>\n",
    "code_show=true; \n",
    "function code_toggle() {\n",
    " if (code_show){\n",
    " $('div.input').hide();\n",
    " } else {\n",
    " $('div.input').show();\n",
    " }\n",
    " code_show = !code_show\n",
    "} \n",
    "$( document ).ready(code_toggle);\n",
    "</script>\n",
    "The raw code for this IPython notebook is hidden by default for easier reading.\n",
    "To toggle on/off the raw code, click <a href=\"javascript:code_toggle()\">here</a>. \n",
    "Some of the analysis may be a bit disjoint without the comments in the code. If you are\n",
    "comfortable reading Python, consider viewing the code, althought it can be a bit long at times.''')"
   ]
  },
  {
   "cell_type": "code",
   "execution_count": 170,
   "metadata": {},
   "outputs": [],
   "source": [
    "import csv\n",
    "import sqlite3\n",
    "import re\n",
    "from collections import defaultdict\n",
    "\n",
    "import pandas as pd\n",
    "import numpy as np\n",
    "\n",
    "import matplotlib.pyplot as plt\n",
    "%matplotlib inline\n",
    "\n",
    "to_names = ['No TO', 'No TO -1','TO', 'Away TO', 'Home TO','Official TO']\n",
    "\n",
    "def read_dictionary(filename):\n",
    "    \"\"\"\n",
    "    Opens the indicated filename and creates a list line by line using the first entry on each line\n",
    "    as the key and the second as the value\n",
    "    \"\"\"\n",
    "    dictionaryoutput = {}\n",
    "    with open(filename, encoding='latin-1') as file:\n",
    "        entries = csv.reader(file)\n",
    "        for item in entries:\n",
    "            dictionaryoutput[item[0]] = item[1]\n",
    "    return dictionaryoutput\n",
    "\n",
    "def write_dict(outputfilename, dictionary):\n",
    "    \"\"\"\n",
    "    Writes a dictionary to a csv.\n",
    "    \"\"\"\n",
    "    with open(outputfilename, 'w', newline='') as outfile:\n",
    "        for key, value in dictionary.items():\n",
    "            outfile.write('%s,%s\\n' % (key, value))\n",
    "            \n",
    "def write_list(outputfilename, list):\n",
    "    \"\"\"\n",
    "    Writes a list to a csv.\n",
    "    \"\"\"\n",
    "    with open(outputfilename, 'w', newline='') as outfile:\n",
    "        itemwriter = csv.writer(outfile, delimiter=\",\")\n",
    "        for item in list:\n",
    "            itemwriter.writerow(item)\n",
    "            \n",
    "def read_list(filename):\n",
    "    \"\"\"\n",
    "    Opens the indicated filename and creates a list line by line\n",
    "    \"\"\"\n",
    "    listoutput = []\n",
    "    with open(filename) as file:\n",
    "        entries = csv.reader(file)\n",
    "        for item in entries:\n",
    "            listoutput.append(item)\n",
    "    return listoutput\n",
    "\n",
    "def find_run_value(key):\n",
    "    \"\"\"\n",
    "    Takes a sequence of scores (e.g., 'H1H2H2H3H2') and determines the total value of that\n",
    "    squence. Used to combine different score sequences based on the magnitude of the run.\n",
    "    \n",
    "    Values are positive for home streaks and negative for away streaks.\n",
    "    \n",
    "    Returns an int.\n",
    "    \"\"\"\n",
    "    run_value = 0\n",
    "    for c in str(key):\n",
    "        if c in 'OUT':\n",
    "            # Should only have scores\n",
    "            # Should be impossible to pass through Regex, but just in case.\n",
    "            raise ValueError('Non-scoring event found in run sequence {}'.format(key))\n",
    "        elif c == 'A':\n",
    "            sign = -1\n",
    "        elif c == 'H':\n",
    "            sign = 1\n",
    "        else:\n",
    "            run_value += sign * int(c)\n",
    "    if run_value == 0:\n",
    "        raise ValueError(\"Score streak evaluated to 0. Key: {}\".format(key))\n",
    "    return run_value\n",
    "\n",
    "def find_sequence_value(seq, scores=4):\n",
    "    \"\"\"\n",
    "    Very similar to find_run_value except that it allows for timeouts in the sequence.\n",
    "    Could be simplified to one function, this may be slightly more readable.\n",
    "    \n",
    "    Returns Int\n",
    "    \"\"\"\n",
    "    seq_value = 0\n",
    "    to = False\n",
    "    for c in str(seq):\n",
    "        # We are going to set the value of timeouts to 0 because we\n",
    "        # want to be able to subtract the last item so TO runs and non-TO runs\n",
    "        # have the same length\n",
    "        if to == True:\n",
    "            c = 0\n",
    "            to = False\n",
    "        elif c in 'OUT':\n",
    "            to = True\n",
    "            c = 0\n",
    "            continue\n",
    "        elif c == 'A':\n",
    "            sign = -1\n",
    "        elif c == 'H':\n",
    "            sign = 1\n",
    "        else:\n",
    "            scores -= 1\n",
    "            seq_value += sign * int(c)\n",
    "        if not scores:\n",
    "            # Return sequence value and sequence -1 (looking for parity dependence)\n",
    "            return seq_value, seq_value - sign * int(c)\n",
    "    \n",
    "    #print('Not enough baskets for comparison {}'.format(seq)) #raise ValueError(\n",
    "    #return seq_value, seq_value - sign * int(c)\n",
    "\n",
    "def get_seq_value(seq):\n",
    "    \"\"\"\n",
    "    A different approach that finds whether there are TO interrupts.\n",
    "    \"\"\"\n",
    "    seq = seq.replace('A', '-').replace('H','+')\n",
    "    seqs = seq.split('T')\n",
    "    if len(seqs) > 1:\n",
    "        pass\n",
    "    for s in seqs:\n",
    "        s = '0' + s\n",
    "        if s[-1] not in '123':\n",
    "            s = s[:-1]\n",
    "        score = eval(s)\n",
    "        \n",
    "        \n",
    "def plot_averages(to_types, score_dictionary=np_combined, min_score=1, max_score=20, team='Home', ylim=(-3,3)):\n",
    "    \"\"\"\n",
    "    Helper function to plot the average scores.\n",
    "    \"\"\"\n",
    "    for to in to_types:\n",
    "        xs = []\n",
    "        ys = []\n",
    "        for i in range(min_score,max_score):\n",
    "            try:\n",
    "                ys.append(score_dictionary[(i, to)].mean())\n",
    "                xs.append(i)\n",
    "            except:\n",
    "                continue\n",
    "        plt.scatter(xs, ys, marker='o', label=to)\n",
    "    plt.plot((min_score, max_score), (0, 0), 'k-') # Add line at zero\n",
    "    plt.xlim(min_score, max_score)\n",
    "    plt.ylim(ylim[0], ylim[1])\n",
    "    plt.title(team + ' Run Size vs. Scoring Result')\n",
    "    plt.xlabel('Run Size')\n",
    "    plt.ylabel('Score After Run End')\n",
    "    plt.legend(loc='upper right')\n",
    "    plt.show()\n",
    "\n",
    "\n",
    "ABRDict = read_dictionary('./ESPN_scraper/ABRdictionary.csv')\n",
    "NUMDict = read_dictionary('./ESPN_scraper/NUMdictionary.csv')\n",
    "game_sequences = read_list('./data/game_sequences.csv')"
   ]
  },
  {
   "cell_type": "code",
   "execution_count": 197,
   "metadata": {},
   "outputs": [],
   "source": [
    "conn = sqlite3.connect('./data/CBBdb.sqlite3')\n",
    "curr = conn.cursor()\n",
    "\n",
    "# Exclude bad data\n",
    "# It might be possible to salvage some of these games as they were frequently a single line where the\n",
    "# points were added to the wrong team and corrected on the next line.\n",
    "data = pd.read_sql_query(\"\"\"SELECT rowid,*\n",
    "                        FROM playbyplay\n",
    "                        WHERE game_id not in ('253240066', '253510006', '260692440', '283190221',\n",
    "                        '283192166', '283190201', '293170264', '283342390', '293172633', '303172239', '290450275',\n",
    "                        '280472483', '283472390', '290450275', '290650087', '293170041', '260280218', '263240150', \n",
    "                        '270170222', '400498526', '400591228', '273332603', '310630171', '253190235', '253532250', \n",
    "                        '260020150', '253180142', '253340120', '253422250', '260072608', '260120204', '260230221',\n",
    "                        '260282507', '260282294', '260310275', '260360152', '263240096', '263330221', '263330264',\n",
    "                        '263400057', '263572305', '270090275', '270130062', '270152305', '270150097', '270160254',\n",
    "                        '270232390', '270272305', '270380201', '270460012', '270462509', '270550079', '270672440',\n",
    "                        '270670120', '273212501', '273512250', '273532086', '280030305', '280050103', '280430258',\n",
    "                        '280562306', '280590097', '280612181', '280612181', '280660356', '280730235', '283310153',\n",
    "                        '283402181', '283420052', '290092561', '290350026', '290452752', '290490235', '400869965',\n",
    "                        '290530183', '290592550', '290660277', '293130153', '293160194', '293172509', '293200041',\n",
    "                        '293290012', '293392509', '293410251', '293540059', '300090167', '300300096', '303120356',\n",
    "                        '303160127', '303160062', '303170068', '303172181', '303170036', '303180150', '303180084',\n",
    "                        '303200097', '303250152', '303300222', '303310251', '303320127', '303360239', '303390030',\n",
    "                        '303452350', '303480251', '303500142', '303520082', '303580326', '310052633', '310070315',\n",
    "                        '310090150', '310122599', '310120046', '310120142', '310150145', '310200264', '310350163',\n",
    "                        '310360097', '310562099', '313160275', '313310221', '313500140', '320140077', '320490305',\n",
    "                        '323280057', '323300038', '323330156', '330012506', '330712065', '400498358', '400502811',\n",
    "                        '400507286', '400545134', '400597751', '400589302', '400589302', '400585776', '400586395',\n",
    "                        '400835654', '253252124', '253262124', '263242124', '273152306', '273302413', '273232124',\n",
    "                        '283202390', '283270221', '283292124', '283402567', '293190130', '293272124', '400856728',\n",
    "                        '400841076', '400847079', '400840829', '400833168', '273170026', '273192305', '313500085',\n",
    "                        '400840099', '313462885', '323652413', '313502751', '303172348', '313462542', '303160349',\n",
    "                        '300300059', '303162545', '313530239', '400595223', '303160006', '303170055', '400591595',\n",
    "                        '400817510', '293282124', '400589303', '303262124', '303160151', '303172184', '293512026',\n",
    "                        '273192305', '400833387', '323650324', '400591290', '303160155', '273210245', '303172169',\n",
    "                        '303172751', '400588668', '303170357', '400587424', '323652309', '303172086', '293432250',\n",
    "                        '323652908', '400498590', '400586319', '400590746', '293512166', '323652750', '400840168',\n",
    "                        '400499958', '273170026', '400513943', '303332306', '400591223', '303160140', '323482439',\n",
    "                        '400588669', '303182619', '323490013', '400830619', '303162674', '400595362', '323650193',\n",
    "                        '323652427', '303172515', '400504241', '400586918', '303172737', '323372272', '400818872',\n",
    "                        '400505535', '303650021', '300070043', '313390050', '303172275', '303160338', '303182515',\n",
    "                        '313500331')\"\"\", conn)\n",
    "conn.close()\n",
    "# Ensure that numbers are numeric values and not strings.\n",
    "del data['rowid']\n",
    "data = data.apply(pd.to_numeric,errors='ignore')"
   ]
  },
  {
   "cell_type": "code",
   "execution_count": 46,
   "metadata": {},
   "outputs": [
    {
     "name": "stdout",
     "output_type": "stream",
     "text": [
      "This is what the data look like:\n"
     ]
    },
    {
     "data": {
      "text/html": [
       "<div>\n",
       "<style scoped>\n",
       "    .dataframe tbody tr th:only-of-type {\n",
       "        vertical-align: middle;\n",
       "    }\n",
       "\n",
       "    .dataframe tbody tr th {\n",
       "        vertical-align: top;\n",
       "    }\n",
       "\n",
       "    .dataframe thead th {\n",
       "        text-align: right;\n",
       "    }\n",
       "</style>\n",
       "<table border=\"1\" class=\"dataframe\">\n",
       "  <thead>\n",
       "    <tr style=\"text-align: right;\">\n",
       "      <th></th>\n",
       "      <th>rowid</th>\n",
       "      <th>game_id</th>\n",
       "      <th>date</th>\n",
       "      <th>event_index</th>\n",
       "      <th>time</th>\n",
       "      <th>actor</th>\n",
       "      <th>event</th>\n",
       "      <th>away</th>\n",
       "      <th>home</th>\n",
       "      <th>away_score</th>\n",
       "      <th>home_score</th>\n",
       "    </tr>\n",
       "  </thead>\n",
       "  <tbody>\n",
       "    <tr>\n",
       "      <th>0</th>\n",
       "      <td>1</td>\n",
       "      <td>253120183</td>\n",
       "      <td>2005-11-09</td>\n",
       "      <td>0</td>\n",
       "      <td>1194</td>\n",
       "      <td>183</td>\n",
       "      <td>Darryl Watkins missed Two Point Layup.</td>\n",
       "      <td>BCU</td>\n",
       "      <td>SYR</td>\n",
       "      <td>0</td>\n",
       "      <td>0</td>\n",
       "    </tr>\n",
       "    <tr>\n",
       "      <th>1</th>\n",
       "      <td>2</td>\n",
       "      <td>253120183</td>\n",
       "      <td>2005-11-09</td>\n",
       "      <td>1</td>\n",
       "      <td>1176</td>\n",
       "      <td>183</td>\n",
       "      <td>Louie McCroskey made Three Point Jumper.</td>\n",
       "      <td>BCU</td>\n",
       "      <td>SYR</td>\n",
       "      <td>0</td>\n",
       "      <td>3</td>\n",
       "    </tr>\n",
       "  </tbody>\n",
       "</table>\n",
       "</div>"
      ],
      "text/plain": [
       "   rowid    game_id        date  event_index  time  actor  \\\n",
       "0      1  253120183  2005-11-09            0  1194    183   \n",
       "1      2  253120183  2005-11-09            1  1176    183   \n",
       "\n",
       "                                      event away home  away_score  home_score  \n",
       "0    Darryl Watkins missed Two Point Layup.  BCU  SYR           0           0  \n",
       "1  Louie McCroskey made Three Point Jumper.  BCU  SYR           0           3  "
      ]
     },
     "execution_count": 46,
     "metadata": {},
     "output_type": "execute_result"
    }
   ],
   "source": [
    "print('This is what the data look like:')\n",
    "data.head(2)"
   ]
  },
  {
   "cell_type": "code",
   "execution_count": 47,
   "metadata": {},
   "outputs": [],
   "source": [
    "# We need to divide games into periods so that we don't span halftime,\n",
    "# overtime periods or different games. ESPN doesn't mark this difference,\n",
    "# so we use the time restart (i.e., t2 > t1 where t is decreasing) to indicate \n",
    "# the start of a new period or an out of order event (i.e., bad game data).\n",
    "\n",
    "# CONSIDER using this to split the games. Might be faster.\n",
    "#https://stackoverflow.com/questions/28911119/split-dataframe-into-two-or-more-parts\n",
    "\n",
    "# Add each half/ot to periods list\n",
    "periods = []\n",
    "lastindex = 0\n",
    "lasttime = data.iloc[0]['time']\n",
    "for i, row in data.iterrows():\n",
    "    time = row['time']\n",
    "    if time > lasttime + 1:\n",
    "        period = data[lastindex:i]\n",
    "        period['game_id'].values[0]\n",
    "        periods.append(data[lastindex:i])\n",
    "        lastindex = i\n",
    "    lasttime = time\n",
    "    \n",
    "#Add the last period\n",
    "periods.append(data[lastindex:i])"
   ]
  },
  {
   "cell_type": "code",
   "execution_count": 199,
   "metadata": {
    "scrolled": false
   },
   "outputs": [
    {
     "name": "stdout",
     "output_type": "stream",
     "text": [
      "We transform the above data into a string containing only scoring plays and timeouts:\n",
      "[253222250, 'H2H2A1A1H2A2A2H2H1H2H2A2ATA3H2H2H2ATH1A3ATA3A2H2ATH2A2OTHTH2A2H2H2A2HTA3OTHTA1H1']\n",
      "Should be an empty list (automatic detection of data corruption): []\n"
     ]
    }
   ],
   "source": [
    "# Now, we transform the data into strings of scores and timeouts.\n",
    "# This method is a lot more sensitive to out of order events than the previous method, so I found more bad games\n",
    "bad_games = []\n",
    "game_sequences = []\n",
    "last_game_id = -1\n",
    "for period in periods:\n",
    "    game_id = period.game_id.values[0]\n",
    "    game_sequence = ''\n",
    "    # We carry the halftime/overtime score and reset on a new game \n",
    "    if game_id != last_game_id:\n",
    "        last_home = 0\n",
    "        last_away = 0\n",
    "    for i,row in period.iterrows():\n",
    "        # Excluding last 90 seconds\n",
    "        if row.time < 90:\n",
    "            break\n",
    "        points = (row.home_score - last_home) - (row.away_score - last_away)\n",
    "        # We need to make sure that the sequence is accurate, otherwise 2 digit scores throw off the analysis\n",
    "        if points > 3 or points < -3:\n",
    "            # This should be empty at the end\n",
    "            bad_games.append(row.game_id)\n",
    "        last_home = row.home_score\n",
    "        last_away = row.away_score\n",
    "        if 'timeout' in row.event.lower():\n",
    "            if 'tv' in row.event.lower():\n",
    "                game_sequence += 'OT'\n",
    "            if row.actor != -1: # -1 for teams that aren't in the team dictionaries\n",
    "                if NUMDict[str(row.actor)] in ABRDict[row.home]:\n",
    "                    game_sequence += 'HT'\n",
    "                elif NUMDict[str(row.actor)] in ABRDict[row.away]:\n",
    "                    game_sequence += 'AT'\n",
    "            else:\n",
    "                bad_games.append(str(game_id))\n",
    "        elif points > 0:\n",
    "            game_sequence += 'H' + str(points)\n",
    "        elif points < 0: \n",
    "            game_sequence += 'A' + str(abs(points))\n",
    "    # Get current values so we can make sure we have the correct starting score \n",
    "    last_game_id = game_id\n",
    "    last_home = period.iloc[-1].home_score\n",
    "    last_away = period.iloc[-1].away_score\n",
    "            \n",
    "    game_sequences.append([game_id, game_sequence])\n",
    "\n",
    "# Check a random value to make sure it's correct\n",
    "print('We transform the above data into a string containing only scoring plays and timeouts:')\n",
    "print(game_sequences[42])\n",
    "#print(\"', '\".join(set(bad_games)))\n",
    "print('Should be an empty list (automatic detection of data corruption):', bad_games) "
   ]
  },
  {
   "cell_type": "code",
   "execution_count": 54,
   "metadata": {},
   "outputs": [],
   "source": [
    "# Some of the above is a bit slow so we can read/write here\n",
    "# Used a csv for readability. Pickle would also have worked.\n",
    "#write_list('./data/game_sequences.csv', game_sequences)\n",
    "#game_sequences = read_list('./data/game_sequences.csv')"
   ]
  },
  {
   "cell_type": "markdown",
   "metadata": {},
   "source": [
    "Next, we use regex to find everything that happens after any run. We define a run as any number of consecutive scores (including free throws) by a team. Then, we determine what happened after that run (e.g., running team continued to score, teams traded scores, time outs were called, etc.). We collect these data for the duration of the run and then the following 7 events (scores or timeouts).\n",
    "\n",
    "The example printed below shows all of the sequences that occurred after the home team scored three 3pts in a row ('H3H3H3')."
   ]
  },
  {
   "cell_type": "code",
   "execution_count": 186,
   "metadata": {},
   "outputs": [
    {
     "name": "stdout",
     "output_type": "stream",
     "text": [
      "['ATA2H2A3H3A3H3', 'H2ATH2A2H2A3OT', 'ATH2OTHTA2H3H2', 'ATA3H3OTHTH2A2', 'ATOTATA1A1A2H3', 'ATH2H1A2H2A2H3', 'ATA3OTHTH2A2H3', 'ATH2OTHTA2H1H2', 'ATOTHTH1H1A2H2', 'ATOTATH3A2H3H3', 'ATH2H3A2OTATA1', 'ATA2A2HTOTHTH3', 'ATA2H2A2OTHTH3', 'H1A1A1OTHTH1H1', 'H3A2A1H2OTATA1', 'A2H2OTATA2OTAT', 'A3H2A2HTOTHTH1', 'ATH2OTHTH2A2', 'ATOTATA2H1H1OT', 'ATOTHTATH2A2H2', 'H1H1OTATH3A1A1', 'OTHTH1H2A2HTH2', 'H2ATA3H2A2OTAT', 'H2OTHTH1H2A3H2', 'OTATA1A1H2H1H1', 'ATA2H1H2OTHTH1', 'A2H3A2OTATA2H2', 'OTATH3A1A1H2A1', 'A1A1H2ATA1A1H2', 'ATA2A2H2H2OTAT', 'H3H2ATOTHTA2H3', 'A2H2OTATA1HTH1', 'ATA2OTATA2H2H2', 'ATA3H2A2OTHTH1', 'A3A1A1H2H2ATH3', 'ATOTHTH2H1H1A1', 'A1A1H3H2A2H3AT', 'ATA1OTATA1H2A3', 'A3H2A2H3H2A2H2', 'ATA1H2H1A2A1A2', 'ATA2H2A3H3OTAT', 'ATA2HTH2A3OTHT', 'OTHTH1A1A1', 'A3H2OTATA1A1H3', 'ATA3A2OTATH3A1', 'OTHTH2A3HT', 'ATA2OTATH1H1H2', 'ATA2A2H2H2H2OT', 'H3ATH2OTATA2H1', 'ATH2H1H1OTATA1', 'ATA1A2H2OTHTH2', 'OTHTA2H2H1A3H2', 'ATA1A1H2A2OTHT', 'ATH2H3A2H2H2H2', 'A3H1H1A3H3OTHT', 'H1H2A3A2HTOTHT', 'ATA2H1H1H1OTHT', 'H3A1A1H2A2A2H2', 'H3H2A1OTHTA2H3', 'ATA2A2H2A1A1H1', 'ATA2A2OTHTA2A1', 'HTOTHTOTHTH2A2', 'A3H2H1H1H2OTHT', 'A2OTHTA1H2A2A2']\n"
     ]
    }
   ],
   "source": [
    "# Regex search strings\n",
    "home_run = \"\"\"(H[1-3]){2,}\"\"\"\n",
    "away_run = \"\"\"(A[1-3]){2,}\"\"\"\n",
    "# Change to \"\"\"(H[1-3]){2,}([AOUT1-3]{2}|HT[HAOUT1-3]{10})\"\"\". Should be able to get groups directly \n",
    "# and should only find sequences where there are enough events after the run simplifying of the code below\n",
    "\n",
    "full_run_dictionary = defaultdict(list)\n",
    "for period in game_sequences:\n",
    "    for run_seq in [home_run, away_run]:\n",
    "        for start, end in [(m.start(0), m.end(0)) for m in re.finditer(run_seq, period[1])]:\n",
    "            # The regex does not find overlaps but we want to make sure that we are unbiased in defining what\n",
    "            # happens next under certain circumstances, so we need to collect subsequences of longer runs\n",
    "            # As an example, a sequence like H2H3H2H1H1H3H2 will only match once, but we also want to consider\n",
    "            # H2H3H2 as a run. The regex will find H2H3H2(A[1-3T]|HT) but we need to include the possibility that\n",
    "            # the run continues\n",
    "            while end - start >= 4:\n",
    "                run = period[1][start:end]\n",
    "                sequence = period[1][end:end+14]\n",
    "                if len(sequence) >= 10:\n",
    "                    try:\n",
    "                        full_run_dictionary[run].append(sequence)\n",
    "                    except:\n",
    "                        full_run_dictionary[run] = [sequence]\n",
    "                # Remove the last event and get the shorter sequence\n",
    "                end -= 2\n",
    "            \n",
    "print(full_run_dictionary['H3H3H3'])"
   ]
  },
  {
   "cell_type": "markdown",
   "metadata": {},
   "source": [
    "There are a large number of possible scoring sequences. For simplicity, we are going to start by grouping them based on value. The values of the run sequences and the post-run sequences will be calculated and separated based on whether the run is \"terminated\" by a timeout and who the timeout caller was (official, home team, away team). Run values are calculated to be positive for the home team and negative for the away team so that we can easily correlate run continuation or ending based on the sign of the average."
   ]
  },
  {
   "cell_type": "code",
   "execution_count": 190,
   "metadata": {},
   "outputs": [
    {
     "name": "stdout",
     "output_type": "stream",
     "text": [
      "1128\n",
      "118019\n",
      "5383\n",
      "85439\n"
     ]
    }
   ],
   "source": [
    "# Here we find out how much each sequence is worth and the value of the scores after the timeout\n",
    "# We produce a list of [run_sequence, value of run, [lists of values of post TO sequences by type of timeout]]\n",
    "# that is, [no timeout, all timeouts, official timeout, home timeout, away timeout]\n",
    "score_histograms = []\n",
    "total = 0\n",
    "not_enough = 0\n",
    "multiple_t = 0\n",
    "for key in full_run_dictionary:\n",
    "    run_value = find_run_value(key)\n",
    "    seq_values = {'NoT': [],\n",
    "                'NoT-1': [],\n",
    "                'HT': [],\n",
    "                'HT-1': [],\n",
    "                'AT': [],\n",
    "                'AT-1': [],\n",
    "                'OT': [],\n",
    "                'OT-1': []}\n",
    "    TO_run = False\n",
    "    for seq in full_run_dictionary[key]:\n",
    "        total += 1\n",
    "        if len(re.findall(r'T', seq)) > 1:\n",
    "            multiple_t += 1\n",
    "        # Find values of the runs and sort them based on whether a TO was called and who called it.\n",
    "        try:\n",
    "            seq_value, seq_v_less1 = find_sequence_value(seq, scores=4)\n",
    "        except:\n",
    "            not_enough += 1\n",
    "            continue\n",
    "        caller = seq[0] if seq[1] == 'T' else 'No'\n",
    "        seq_values[caller + 'T'].append(seq_value)\n",
    "        seq_values[caller + 'T-1'].append(seq_v_less1)\n",
    "    # Adds the above calculated and divided values to a list.\n",
    "    score_histograms.append([key, run_value, seq_values])\n",
    "        \n",
    "print(len(score_histograms))\n",
    "print(total)\n",
    "print(not_enough)\n",
    "print(multiple_t)"
   ]
  },
  {
   "cell_type": "code",
   "execution_count": 192,
   "metadata": {},
   "outputs": [],
   "source": [
    "combined = defaultdict(list)\n",
    "for values in score_histograms:\n",
    "    for seq_type in values[2].keys():\n",
    "        # combined[(score, to type)]\n",
    "        combined[(values[1], seq_type)].extend(values[2][seq_type])\n",
    "#After arrays are complete, convert them to np.array\n",
    "np_combined = {}\n",
    "for k,v in combined.items():\n",
    "    np_combined[k] = np.array(v)"
   ]
  },
  {
   "cell_type": "code",
   "execution_count": 193,
   "metadata": {},
   "outputs": [
    {
     "name": "stdout",
     "output_type": "stream",
     "text": [
      "Available keys: dict_keys(['NoT', 'NoT-1', 'HT', 'HT-1', 'AT', 'AT-1', 'OT', 'OT-1'])\n"
     ]
    }
   ],
   "source": [
    "print('Available keys:', seq_values.keys())"
   ]
  },
  {
   "cell_type": "code",
   "execution_count": 194,
   "metadata": {},
   "outputs": [
    {
     "data": {
      "image/png": "[encoded data removed]",
      "text/plain": [
       "<matplotlib.figure.Figure at 0x7f11155a2278>"
      ]
     },
     "metadata": {},
     "output_type": "display_data"
    },
    {
     "data": {
      "image/png": "[encoded data removed]",
      "text/plain": [
       "<matplotlib.figure.Figure at 0x7f11155a2438>"
      ]
     },
     "metadata": {},
     "output_type": "display_data"
    },
    {
     "name": "stderr",
     "output_type": "stream",
     "text": [
      "/home/mattfred/anaconda2/envs/py3/lib/python3.6/site-packages/ipykernel_launcher.py:137: RuntimeWarning: Mean of empty slice.\n",
      "/home/mattfred/anaconda2/envs/py3/lib/python3.6/site-packages/numpy/core/_methods.py:80: RuntimeWarning: invalid value encountered in double_scalars\n",
      "  ret = ret.dtype.type(ret / rcount)\n"
     ]
    },
    {
     "data": {
      "image/png": "[encoded data removed]",
      "text/plain": [
       "<matplotlib.figure.Figure at 0x7f11157c0c88>"
      ]
     },
     "metadata": {},
     "output_type": "display_data"
    }
   ],
   "source": [
    "plot_averages(['NoT', 'OT'], score_dictionary=np_combined, max_score=12)\n",
    "plot_averages(['HT', 'AT', 'OT'], score_dictionary=np_combined, max_score=12)\n",
    "plot_averages(seq_values.keys())"
   ]
  },
  {
   "cell_type": "code",
   "execution_count": null,
   "metadata": {},
   "outputs": [],
   "source": []
  },
  {
   "cell_type": "code",
   "execution_count": null,
   "metadata": {},
   "outputs": [],
   "source": []
  },
  {
   "cell_type": "code",
   "execution_count": null,
   "metadata": {
    "collapsed": true
   },
   "outputs": [],
   "source": []
  },
  {
   "cell_type": "code",
   "execution_count": null,
   "metadata": {},
   "outputs": [],
   "source": []
  },
  {
   "cell_type": "code",
   "execution_count": null,
   "metadata": {},
   "outputs": [],
   "source": []
  },
  {
   "cell_type": "code",
   "execution_count": null,
   "metadata": {},
   "outputs": [],
   "source": [
    "    "
   ]
  },
  {
   "cell_type": "code",
   "execution_count": null,
   "metadata": {},
   "outputs": [],
   "source": []
  },
  {
   "cell_type": "code",
   "execution_count": null,
   "metadata": {},
   "outputs": [],
   "source": []
  },
  {
   "cell_type": "code",
   "execution_count": null,
   "metadata": {},
   "outputs": [],
   "source": []
  },
  {
   "cell_type": "code",
   "execution_count": null,
   "metadata": {
    "collapsed": true
   },
   "outputs": [],
   "source": []
  },
  {
   "cell_type": "code",
   "execution_count": null,
   "metadata": {},
   "outputs": [],
   "source": []
  },
  {
   "cell_type": "code",
   "execution_count": null,
   "metadata": {
    "collapsed": true
   },
   "outputs": [],
   "source": [
    "#data.loc[(data.game_id == 253120183)]"
   ]
  },
  {
   "cell_type": "code",
   "execution_count": null,
   "metadata": {
    "collapsed": true
   },
   "outputs": [],
   "source": [
    "# Nice little alert to let me know when the Notebook has finished\n",
    "from IPython.display import HTML\n",
    "HTML('''<script>\n",
    "alert('Done!')\n",
    "</script>''')"
   ]
  }
 ],
 "metadata": {
  "kernelspec": {
   "display_name": "Python 3",
   "language": "python",
   "name": "python3"
  },
  "language_info": {
   "codemirror_mode": {
    "name": "ipython",
    "version": 3
   },
   "file_extension": ".py",
   "mimetype": "text/x-python",
   "name": "python",
   "nbconvert_exporter": "python",
   "pygments_lexer": "ipython3",
   "version": "3.6.3"
  }
 },
 "nbformat": 4,
 "nbformat_minor": 2
}
