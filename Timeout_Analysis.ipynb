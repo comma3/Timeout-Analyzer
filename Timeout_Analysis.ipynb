{
 "cells": [
  {
   "cell_type": "markdown",
   "metadata": {},
   "source": [
    "### \"Call a daggum timeout!\"\n",
    "\n",
    "-Roy Williams, probably never\n",
    "\n",
    "## Introduction\n",
    "\n",
    "Basketball fans generally believe that calling timeouts can slow or stop scoring runs. Certain coaches (famously, Roy Williams) are often criticized for not calling timeouts when their teams are on the wrong side of a scoring run (referred to as the \"slipping\" team in this work). Fans can be insistent that timeouts <i>must</i> be called in these situtions. However, to the best of my knowledge, this general wisdom has never been tested nor supported by any actual analysis. Previously, I explored this relationship using Bayesian statistics to suggest that calling a timeout either has no effect on or even decreases the probability of runs ending. This analysis had some flaws, largely because 1. the criteria for \"ending\" a run are unclear, and 2. there are so many timeouts in college basketball that the prior probability of a run ending was perhaps inaccurate (in that work, two timeouts called without the slipping team returning to trading scores). \n",
    "\n",
    "To address these issues, I looked to a method that requires no parameterization to determine when a run is considered over. The expected value of a timeout can be used to determine whether timeouts have the desired effect. That is, if a timeout is called, we can look at the average change in score over the next few scores and compare that value with the average score of a similar run when no timeout was called (or a different type of timeout was called). Briefly, Scoring runs are categorized by their point values and divided based on the \"terminating\" event (home timeout, away timeout, official timeout, or no timeout). Then, the expected value (i.e., average score) of the sequences of events that occur after the run is calculated. We can then say that a timeout has an expected value that is greater than, less than or equal to the expected value when nothing is done.\n",
    "\n",
    "\n",
    "In this work, we will show the following:\n",
    "\n",
    "1. Runs regress to the mean naturally. That is, teams should expect to return to trading baskets on average in the absence of a timeout ($\\Delta$ScoreMargin = 0).\n",
    "\n",
    "2. The effect of unbiased time stoppages (i.e., official timeouts) is the same as no time stoppage (score change = 0). *There is no evidence for any kind of settling or momentum effect due to calling a timeout.*\n",
    "\n",
    "3. The effect of calling a timeout is nearly independent of the previous scoring sequence (N.B.: there is a noticeable Home Court advantage). In other words, the effects of timeouts are effectly constant, regardless of the previous sequence of events including the size of a run.\n",
    "\n",
    "4. On average, not calling a timeout is better for the slipping team than any kind of stoppage in play. After all, both teams get to use the timeout, why wouldn't the running team also be able to rest and improve their strategy?\n",
    "\n",
    "\n",
    "## Background\n",
    "\n",
    "Scoring runs are expected in any contest just by chance. This can easily be seen from simple coin flips. If a team is expected to convert 50% of their possessions (equivalent to a coin flip), then they can be expected to convert several in a row while the other team converts none. In this way, scoring runs should occur in most basketball contests. In the same way, these scoring runs should be expected to follow similar probability distributions for when they end. That is, after a scoring run starts, it should have a predictable probability of ending due to the same effect of chance.\n",
    "\n",
    "The most common reason that fans believe timeouts should be called is settling \"frazzled\" players or slowing momentum. However, if runs are expected statistical results, these intangible factors should not receive much consideration. Players should be expected to recognize these \"slumps\" and \"streaks\" as statistically probable events and know how to handle them. I would even suggest that experience with these events, i.e., \"playing through\" a cold streak or weathering runs towards the ends of games, results in increased overall win percentage and, in particular, improved post-season success. Excessively calling timeouts could result in some pretty bad losses when you really need a timeout. <a href=\"https://youtu.be/7HhZBaCAa80?t=702\">Here's a nice example.</a>\n",
    "\n",
    "<b>Disclaimer: This is all an exercise in statistics and data scraping. I do believe that there are mental components to athletic contests and that scoring is not independent of these factors. However, I think that a coach could easily coach their team to not expect or wait for timeouts in the case of runs, and it would not have a negative effect on their performance. Some of that practice time has to materialize as recognize the mistakes you are making and correcting them without a timeout.</b>\n",
    "\n",
    "## Methods\n",
    "\n",
    "In this analysis, we are matching exact scoring/timeout sequences to other sequences and determining what happened after those sequences. Briefly, the method consists of converting scores into a code 'H' or 'A' indicating 'Home' or 'Away' followed by the value of the basket (1-3) or a 'T' for 'Timeout' ('OT' for official/TV timeouts). This method produces a string like \"H2H2H2A2H2OTATH2A2H3OTHTH1H1A2\". We then use a regular expression search to find all sequences that look like a run. We use this approach to examine all possible 'run' sequences (including a single point). We exclude any sequences that run into the last 90 seconds of a period because clock management because a very import strategic element, and those sequences are considered to be part of a separate population with different behaviors. That is, I don't think ending a run in the last 30 seconds is the same strategic choice as one during the 10th minute.\n",
    "\n",
    "After finding sequences that match the run criteria, we divide the runs based on the event that ended the run (TO by type, including no TO) and record the value of the next 4 scores. While I believe multiple timeouts should be considered a \"failure\" for the slipping team, we ignore any additional TOs to keep this analysis simple and clear. We are comparing sequences to see how calling a timeout *in a particular moment* differs from not calling a timeout. It may be worth investigating multiple timeouts or runs that span timeouts in the furture."
   ]
  },
  {
   "cell_type": "code",
   "execution_count": 1,
   "metadata": {},
   "outputs": [
    {
     "data": {
      "text/html": [
       "<script>\n",
       "code_show=true; \n",
       "function code_toggle() {\n",
       " if (code_show){\n",
       " $('div.input').hide();\n",
       " } else {\n",
       " $('div.input').show();\n",
       " }\n",
       " code_show = !code_show\n",
       "} \n",
       "$( document ).ready(code_toggle);\n",
       "</script><h3><b>The raw code for this Jupyter notebook is hidden by default for easier reading.\n",
       "To toggle the raw code on/off, click <a href=\"javascript:code_toggle()\">here</a>. \n",
       "Some of the analysis may be a bit disjoint without the comments in the code. If you are\n",
       "comfortable reading Python, consider viewing the code, although it can be a bit long at times.</b></h3>"
      ],
      "text/plain": [
       "<IPython.core.display.HTML object>"
      ]
     },
     "execution_count": 1,
     "metadata": {},
     "output_type": "execute_result"
    }
   ],
   "source": [
    "from IPython.display import HTML\n",
    "HTML('''<script>\n",
    "code_show=true; \n",
    "function code_toggle() {\n",
    " if (code_show){\n",
    " $('div.input').hide();\n",
    " } else {\n",
    " $('div.input').show();\n",
    " }\n",
    " code_show = !code_show\n",
    "} \n",
    "$( document ).ready(code_toggle);\n",
    "</script><h3><b>The raw code for this Jupyter notebook is hidden by default for easier reading.\n",
    "To toggle the raw code on/off, click <a href=\"javascript:code_toggle()\">here</a>. \n",
    "Some of the analysis may be a bit disjoint without the comments in the code. If you are\n",
    "comfortable reading Python, consider viewing the code, although it can be a bit long at times.</b></h3>''')"
   ]
  },
  {
   "cell_type": "code",
   "execution_count": 58,
   "metadata": {},
   "outputs": [],
   "source": [
    "# Imports\n",
    "import csv, sqlite3, re \n",
    "from collections import defaultdict\n",
    "import pandas as pd\n",
    "import numpy as np\n",
    "import statsmodels.api as sm\n",
    "import scipy.stats as scp\n",
    "\n",
    "from sklearn.linear_model import LinearRegression \n",
    "\n",
    "import matplotlib.pyplot as plt\n",
    "%matplotlib inline\n",
    "plt.rcParams.update({'font.size': 16,\n",
    "                    'figure.figsize': (10, 5)})\n",
    "\n",
    "\n",
    "# Intermediate data are stored in human readable format using these functions\n",
    "def read_dict(filename):\n",
    "    \"\"\"\n",
    "    Opens the indicated filename and creates a list line by line using the first entry on each line\n",
    "    as the key and the second as the value\n",
    "    \"\"\"\n",
    "    dictionaryoutput = {}\n",
    "    with open(filename, encoding='latin-1') as file:\n",
    "        entries = csv.reader(file)\n",
    "        for item in entries:\n",
    "            dictionaryoutput[item[0]] = item[1]\n",
    "    return dictionaryoutput\n",
    "\n",
    "def write_dict(outputfilename, dictionary):\n",
    "    \"\"\"\n",
    "    Writes a dictionary to a csv.\n",
    "    \"\"\"\n",
    "    with open(outputfilename, 'w', newline='') as outfile:\n",
    "        for key, value in dictionary.items():\n",
    "            outfile.write('%s,%s\\n' % (key, value))\n",
    "            \n",
    "def write_list(outputfilename, list):\n",
    "    \"\"\"\n",
    "    Writes a list to a csv.\n",
    "    \"\"\"\n",
    "    with open(outputfilename, 'w', newline='') as outfile:\n",
    "        itemwriter = csv.writer(outfile, delimiter=\",\")\n",
    "        for item in list:\n",
    "            itemwriter.writerow(item)\n",
    "            \n",
    "def read_list(filename):\n",
    "    \"\"\"\n",
    "    Opens the indicated filename and creates a list line by line\n",
    "    \"\"\"\n",
    "    listoutput = []\n",
    "    with open(filename) as file:\n",
    "        entries = csv.reader(file)\n",
    "        for item in entries:\n",
    "            listoutput.append(item)\n",
    "    return listoutput\n",
    "\n",
    "def find_run_value(key):\n",
    "    \"\"\"\n",
    "    Takes a sequence of scores (e.g., 'H1H2H2H3H2') and determines the total value of that\n",
    "    squence. Used to combine different score sequences based on the magnitude of the run.\n",
    "    \n",
    "    Values are positive for home streaks and negative for away streaks.\n",
    "    \n",
    "    INPUT: String of scoring events\n",
    "    OUTPUT: Int\n",
    "    \"\"\"\n",
    "    # Determine sign Home is positive Away is negative\n",
    "    if 'H' in key and 'A' in key or 'T' in key:\n",
    "        raise ValueError('Something wrong {}'.format(key))\n",
    "    elif 'H' in key:\n",
    "        sign = 1\n",
    "    elif 'A' in key:\n",
    "        sign = -1\n",
    "        \n",
    "    ##key = key.replace('A', '+').replace('H', '+')\n",
    "    ##\n",
    "    ### TODO: should be able to get rid of sign and just change this to A -> - H -> +\n",
    "    ##\n",
    "    # Nifty way to determine the score of the sequences\n",
    "    key = key.replace('A', '+').replace('H', '+')\n",
    "    # Functionally evaluates the string \n",
    "    # (This is dangerous, but I've always wanted to use it)\n",
    "    # I wouldn't set this up in a publically available place\n",
    "    run_value = eval(key) * sign \n",
    "    # More error checking\n",
    "    if run_value == 0:\n",
    "        raise ValueError(\"Score streak evaluated to 0. Key: {}\".format(key))\n",
    "    return run_value\n",
    "\n",
    "def find_sequence_value(seq, scores=4):\n",
    "    \"\"\"\n",
    "    Counts the first _scores_ scoring events in a sequence, ignoring timeouts and neglecting the\n",
    "    error checking of find_run_value.\n",
    "    \n",
    "    INPUT: Seq = string of events, scores = int indicating number of scoring events to count. \n",
    "    OUTPUT: Int\n",
    "    \"\"\"\n",
    "    seq_value = 0\n",
    "    for c in seq:\n",
    "        # If it's a timeout or indicating an official timeout, skip\n",
    "        if c in 'OT':\n",
    "            continue\n",
    "        # Set the sign\n",
    "        elif c == 'A':\n",
    "            sign = -1\n",
    "        elif c == 'H':\n",
    "            sign = 1\n",
    "        # Add the score with the appropriate sign\n",
    "        # Will only reach this point if \n",
    "        else:\n",
    "            scores -= 1\n",
    "            seq_value += sign * int(c)\n",
    "        if not scores:\n",
    "            # Return sequence value and sequence minus the last value (looking for parity dependence)\n",
    "            return seq_value, seq_value - sign * int(c)\n",
    "    # This will return None if a sequence does not have a length >= scores\n",
    "    \n",
    "to_abr = {\n",
    "            'NoT' : 'No Timeout',\n",
    "            'OT' : 'Official Timeout',\n",
    "            'HT' : 'Home Timeout',\n",
    "            'AT' : 'Away Timeout'\n",
    "        }\n",
    "    \n",
    "    \n",
    "def set_default(runner, min_score, max_score):\n",
    "    \"\"\"\n",
    "    Sets default score ranges if no score is provided.\n",
    "    \n",
    "    INPUT: runner = string indicating team that is running\n",
    "            min_score, max_score = ints indicating min and max of range\n",
    "                                if None, default will be inserted\n",
    "    OUTPUT: min_score, max_score (ints will be passed unchanged)\n",
    "    \"\"\"\n",
    "    \n",
    "    if runner not in 'HomeAway':\n",
    "        raise ValueError('Ineligible team name (check capitalization):', runner)\n",
    "    \n",
    "    # Set default score range\n",
    "    # Done here so simplify Home/Away selection\n",
    "    if not min_score:\n",
    "        if runner=='Home':\n",
    "            min_score = 2\n",
    "        else:\n",
    "            min_score = -9\n",
    "    if not max_score:\n",
    "        if runner=='Home':\n",
    "            max_score = 10 # not inclusive\n",
    "        else:\n",
    "            max_score = -1\n",
    "            \n",
    "    return min_score, max_score\n",
    "\n",
    "def t_test(to_1, to_2, score_dictionary, runner='Home', alpha=0.05, min_score=None, max_score=None):\n",
    "    \"\"\"\n",
    "    \"\"\"\n",
    "    \n",
    "    if not min_score or not max_score:\n",
    "        min_score, max_score = set_default(runner, min_score, max_score)\n",
    "        \n",
    "    bonferroni = abs(max_score - min_score)\n",
    "    print(bonferroni)\n",
    "    #alpha = alpha/bonferroni\n",
    "    \n",
    "    print('run length\\t|\\tP value\\t|\\tT stat\\t|\\tSignigicant Better\\t|\\tSignificant Worse')\n",
    "    for run_length in range(min_score, max_score):\n",
    "        try:\n",
    "            tval, pval = scp.ttest_ind(score_dictionary[(run_length, to_1)], \\\n",
    "                            score_dictionary[(run_length, to_2)], equal_var=False)\n",
    "        except KeyError:\n",
    "            continue\n",
    "        \n",
    "        sig_b = False\n",
    "        sig_w = False\n",
    "        if runner == 'Home':\n",
    "            if tval < 0: # expected value of to_1 < to_2\n",
    "                pval = 1 - pval\n",
    "                if pval/2 < alpha:\n",
    "                    sig_b = True\n",
    "            elif tval > 0 and pval/2 < alpha:\n",
    "                sig_w = True\n",
    "        elif runner == 'Away': # For clarity\n",
    "            if tval < 0:\n",
    "                pval = 1 - pval\n",
    "                if pval/2 < alpha:\n",
    "                    sig_w = True\n",
    "            elif tval > 0:\n",
    "                if pval/2 < alpha:\n",
    "                    sig_b = True\n",
    "         \n",
    "        print('\\t{}\\t|\\t{:.3f}\\t|\\t{:.3f}\\t|\\t{}\\t|\\t{}'.format(run_length, pval, tval, sig_b, sig_w))\n",
    "        \n",
    "    \n",
    "def plot_averages(to_types, score_dictionary, min_score=None, max_score=None, runner='Home',\\\n",
    "                  ylim=(-3.5,3.5)):\n",
    "    \"\"\"\n",
    "    Helper function to plot the average scores.\n",
    "    \"\"\"\n",
    "    \n",
    "    if not min_score or not max_score:\n",
    "        min_score, max_score = set_default(runner, min_score, max_score)\n",
    "    \n",
    "    \n",
    "    for to in to_types:\n",
    "        xs = []\n",
    "        ys = []\n",
    "        sem = []\n",
    "        for run_length in range(min_score,max_score):\n",
    "            # Might not have values for every point value in the range.\n",
    "            # If there's no value, skip ahead\n",
    "            try:\n",
    "                ys.append(score_dictionary[(run_length, to)].mean())\n",
    "                sem.append(score_dictionary[(run_length, to)].std() / \\\n",
    "                               np.sqrt(len(score_dictionary[(run_length, to)])))\n",
    "                xs.append(run_length)\n",
    "            except KeyError:\n",
    "                continue\n",
    "        print('Expected value of {}:\\t\\t{:.2f} +/- {:.2f}'.format(to_abr[to], (sum(ys)/(len(ys)-1)), np.array(ys).std()))\n",
    "        lr = sm.OLS(ys, xs).fit()\n",
    "        print(lr.summary())\n",
    "        \n",
    "\n",
    "        #lr.fit(np.array(xs).reshape(-1,1), np.array(ys).reshape(-1,1))\n",
    "        #print('Correlation of {}:\\t\\t {:.3f}'.format(to_abr[to], lr.coef_[0][0]))\n",
    "        try:\n",
    "            plt.errorbar(xs, ys, yerr=sem, fmt='o', label=to_abr[to])\n",
    "        except KeyError:\n",
    "            plt.errorbar(xs, ys, yerr=sem, fmt='o', label=to)\n",
    "    # Subtract one here to make plot more appealing.\n",
    "    plt.plot((min_score-1, max_score), (0, 0), 'k-') # Add line at zero\n",
    "    plt.xlim(min_score-1, max_score)\n",
    "    plt.ylim(ylim[0], ylim[1])\n",
    "    plt.title(runner + ' Run Size vs. Change in Score Margin')\n",
    "    plt.xlabel('Run Size')\n",
    "    plt.ylabel('Change in Score Margin After Run End')\n",
    "    plt.legend(loc='lower right')\n",
    "    if runner=='Away':\n",
    "        plt.gca().invert_yaxis()\n",
    "        plt.gca().invert_xaxis()\n",
    "    plt.show\n",
    "        \n",
    "\n",
    "# These dicationaries are created during scraping\n",
    "# They basically serve to convert 'actor id' into team name\n",
    "# or abbreviations into to team names. These abbreviations and\n",
    "# ids are internal ESPN codes that are scraped directly.\n",
    "ABRDict = read_dict('./ESPN_scraper/ABRdictionary.csv')\n",
    "NUMDict = read_dict('./ESPN_scraper/NUMdictionary.csv')\n",
    "\n",
    "#game_sequences = read_list('./data/game_sequences.csv')"
   ]
  },
  {
   "cell_type": "code",
   "execution_count": 3,
   "metadata": {},
   "outputs": [],
   "source": [
    "# Get data from the DB.\n",
    "conn = sqlite3.connect('./data/CBBdb.sqlite3')\n",
    "curr = conn.cursor()\n",
    "\n",
    "# Exclude bad data\n",
    "# It might be possible to salvage some of these games as they were frequently a single line where the\n",
    "# points were added to the wrong team and corrected on the next line. Some games were excluded because\n",
    "# ESPN did not have labels for them. These games were universally blowouts against very small schools and I think\n",
    "# it best that they are not included anyway as they are not representative of competitive college games.\n",
    "# It should be possible to impute this information, but I don't think it would have a meaningful effect on the\n",
    "# outcomes.\n",
    "\n",
    "# Games can be plugged into http://www.espn.com/mens-college-basketball/playbyplay?gameId=$game_id$ \n",
    "# or #data.loc[(data.game_id == $game_id$)] to view original data.\n",
    "data = pd.read_sql_query(\"\"\"SELECT *\n",
    "                        FROM playbyplay\n",
    "                        WHERE game_id not in ('253240066', '253510006', '260692440', '283190221',\n",
    "                        '283192166', '283190201', '293170264', '283342390', '293172633', '303172239', '290450275',\n",
    "                        '280472483', '283472390', '290450275', '290650087', '293170041', '260280218', '263240150', \n",
    "                        '270170222', '400498526', '400591228', '273332603', '310630171', '253190235', '253532250', \n",
    "                        '260020150', '253180142', '253340120', '253422250', '260072608', '260120204', '260230221',\n",
    "                        '260282507', '260282294', '260310275', '260360152', '263240096', '263330221', '263330264',\n",
    "                        '263400057', '263572305', '270090275', '270130062', '270152305', '270150097', '270160254',\n",
    "                        '270232390', '270272305', '270380201', '270460012', '270462509', '270550079', '270672440',\n",
    "                        '270670120', '273212501', '273512250', '273532086', '280030305', '280050103', '280430258',\n",
    "                        '280562306', '280590097', '280612181', '280612181', '280660356', '280730235', '283310153',\n",
    "                        '283402181', '283420052', '290092561', '290350026', '290452752', '290490235', '400869965',\n",
    "                        '290530183', '290592550', '290660277', '293130153', '293160194', '293172509', '293200041',\n",
    "                        '293290012', '293392509', '293410251', '293540059', '300090167', '300300096', '303120356',\n",
    "                        '303160127', '303160062', '303170068', '303172181', '303170036', '303180150', '303180084',\n",
    "                        '303200097', '303250152', '303300222', '303310251', '303320127', '303360239', '303390030',\n",
    "                        '303452350', '303480251', '303500142', '303520082', '303580326', '310052633', '310070315',\n",
    "                        '310090150', '310122599', '310120046', '310120142', '310150145', '310200264', '310350163',\n",
    "                        '310360097', '310562099', '313160275', '313310221', '313500140', '320140077', '320490305',\n",
    "                        '323280057', '323300038', '323330156', '330012506', '330712065', '400498358', '400502811',\n",
    "                        '400507286', '400545134', '400597751', '400589302', '400589302', '400585776', '400586395',\n",
    "                        '400835654', '253252124', '253262124', '263242124', '273152306', '273302413', '273232124',\n",
    "                        '283202390', '283270221', '283292124', '283402567', '293190130', '293272124', '400856728',\n",
    "                        '400841076', '400847079', '400840829', '400833168', '273170026', '273192305', '313500085',\n",
    "                        '400840099', '313462885', '323652413', '313502751', '303172348', '313462542', '303160349',\n",
    "                        '300300059', '303162545', '313530239', '400595223', '303160006', '303170055', '400591595',\n",
    "                        '400817510', '293282124', '400589303', '303262124', '303160151', '303172184', '293512026',\n",
    "                        '273192305', '400833387', '323650324', '400591290', '303160155', '273210245', '303172169',\n",
    "                        '303172751', '400588668', '303170357', '400587424', '323652309', '303172086', '293432250',\n",
    "                        '323652908', '400498590', '400586319', '400590746', '293512166', '323652750', '400840168',\n",
    "                        '400499958', '273170026', '400513943', '303332306', '400591223', '303160140', '323482439',\n",
    "                        '400588669', '303182619', '323490013', '400830619', '303162674', '400595362', '323650193',\n",
    "                        '323652427', '303172515', '400504241', '400586918', '303172737', '323372272', '400818872',\n",
    "                        '400505535', '303650021', '300070043', '313390050', '303172275', '303160338', '303182515',\n",
    "                        '313500331')\"\"\", conn)\n",
    "conn.close()\n",
    "#del data['rowid'] # Redundant with pandas index.\n",
    "# Ensure that numbers are numeric values and not strings.\n",
    "\n",
    "data = data.apply(pd.to_numeric,errors='ignore')"
   ]
  },
  {
   "cell_type": "code",
   "execution_count": 4,
   "metadata": {},
   "outputs": [
    {
     "name": "stdout",
     "output_type": "stream",
     "text": [
      "This is what the data look like:\n"
     ]
    },
    {
     "data": {
      "text/html": [
       "<div>\n",
       "<style scoped>\n",
       "    .dataframe tbody tr th:only-of-type {\n",
       "        vertical-align: middle;\n",
       "    }\n",
       "\n",
       "    .dataframe tbody tr th {\n",
       "        vertical-align: top;\n",
       "    }\n",
       "\n",
       "    .dataframe thead th {\n",
       "        text-align: right;\n",
       "    }\n",
       "</style>\n",
       "<table border=\"1\" class=\"dataframe\">\n",
       "  <thead>\n",
       "    <tr style=\"text-align: right;\">\n",
       "      <th></th>\n",
       "      <th>game_id</th>\n",
       "      <th>date</th>\n",
       "      <th>event_index</th>\n",
       "      <th>time</th>\n",
       "      <th>actor</th>\n",
       "      <th>event</th>\n",
       "      <th>away</th>\n",
       "      <th>home</th>\n",
       "      <th>away_score</th>\n",
       "      <th>home_score</th>\n",
       "    </tr>\n",
       "  </thead>\n",
       "  <tbody>\n",
       "    <tr>\n",
       "      <th>0</th>\n",
       "      <td>253120183</td>\n",
       "      <td>2005-11-09</td>\n",
       "      <td>0</td>\n",
       "      <td>1194</td>\n",
       "      <td>183</td>\n",
       "      <td>Darryl Watkins missed Two Point Layup.</td>\n",
       "      <td>BCU</td>\n",
       "      <td>SYR</td>\n",
       "      <td>0</td>\n",
       "      <td>0</td>\n",
       "    </tr>\n",
       "    <tr>\n",
       "      <th>1</th>\n",
       "      <td>253120183</td>\n",
       "      <td>2005-11-09</td>\n",
       "      <td>1</td>\n",
       "      <td>1176</td>\n",
       "      <td>183</td>\n",
       "      <td>Louie McCroskey made Three Point Jumper.</td>\n",
       "      <td>BCU</td>\n",
       "      <td>SYR</td>\n",
       "      <td>0</td>\n",
       "      <td>3</td>\n",
       "    </tr>\n",
       "    <tr>\n",
       "      <th>2</th>\n",
       "      <td>253120183</td>\n",
       "      <td>2005-11-09</td>\n",
       "      <td>2</td>\n",
       "      <td>1154</td>\n",
       "      <td>2065</td>\n",
       "      <td>Cleveland Williams missed Two Point Jumper.</td>\n",
       "      <td>BCU</td>\n",
       "      <td>SYR</td>\n",
       "      <td>0</td>\n",
       "      <td>3</td>\n",
       "    </tr>\n",
       "  </tbody>\n",
       "</table>\n",
       "</div>"
      ],
      "text/plain": [
       "     game_id        date  event_index  time  actor  \\\n",
       "0  253120183  2005-11-09            0  1194    183   \n",
       "1  253120183  2005-11-09            1  1176    183   \n",
       "2  253120183  2005-11-09            2  1154   2065   \n",
       "\n",
       "                                         event away home  away_score  \\\n",
       "0       Darryl Watkins missed Two Point Layup.  BCU  SYR           0   \n",
       "1     Louie McCroskey made Three Point Jumper.  BCU  SYR           0   \n",
       "2  Cleveland Williams missed Two Point Jumper.  BCU  SYR           0   \n",
       "\n",
       "   home_score  \n",
       "0           0  \n",
       "1           3  \n",
       "2           3  "
      ]
     },
     "execution_count": 4,
     "metadata": {},
     "output_type": "execute_result"
    }
   ],
   "source": [
    "print('This is what the data look like:')\n",
    "# game_id :  ESPN gameid number\n",
    "# date : date that the game was played\n",
    "# event_index : sequence of play by play event\n",
    "# time : remain time in period\n",
    "# actor : ESPN code for team\n",
    "# event : written description of the play\n",
    "# away, home, away_score, home_score, what you would expect\n",
    "data.head(3)"
   ]
  },
  {
   "cell_type": "code",
   "execution_count": 5,
   "metadata": {},
   "outputs": [],
   "source": [
    "# We need to divide games into periods so that we don't span halftime,\n",
    "# overtime periods or different games. ESPN doesn't mark this difference,\n",
    "# so we use the time restart (i.e., t2 > t1 where t is decreasing) to indicate \n",
    "# the start of a new period or an out of order event (i.e., bad game data).\n",
    "\n",
    "# CONSIDER using this to split the games. Might be faster.\n",
    "# https://stackoverflow.com/questions/28911119/split-dataframe-into-two-or-more-parts\n",
    "\n",
    "# Add each half/ot to periods list\n",
    "periods = []\n",
    "lastindex = 0\n",
    "lasttime = data.iloc[0]['time']\n",
    "for i, row in data.iterrows():\n",
    "    time = row['time']\n",
    "    if time > lasttime + 1:\n",
    "        period = data[lastindex:i]\n",
    "        period['game_id'].values[0]\n",
    "        periods.append(data[lastindex:i])\n",
    "        lastindex = i\n",
    "    lasttime = time\n",
    "    \n",
    "#Add the last period\n",
    "periods.append(data[lastindex:i])"
   ]
  },
  {
   "cell_type": "markdown",
   "metadata": {},
   "source": [
    "We transform the above data into a string containing only scoring plays and timeouts. The an \"H\" indicates \"Home\", \"A\" indicates \"Away\" and \"O\" indicates \"Official\". The number indicates the point value of the play (i.e., 1 is a free throw, 3 is a three pointer). \"T\" is a timeout.\n",
    "\n",
    "An example game is shown below:"
   ]
  },
  {
   "cell_type": "code",
   "execution_count": 6,
   "metadata": {
    "scrolled": false
   },
   "outputs": [
    {
     "name": "stdout",
     "output_type": "stream",
     "text": [
      "[253222250, 'H2H2A1A1H2A2A2H2H1H2H2A2ATA3H2H2H2ATH1A3ATA3A2H2ATH2A2OTHTH2A2H2H2A2HTA3OTHTA1H1']\n",
      "The result below should be an empty list \"[]\" (automatic detection of bad data):\n",
      " []\n"
     ]
    }
   ],
   "source": [
    "# Now, we transform the data into strings of scores and timeouts.\n",
    "# I used a string conversion here because regex made this analysis\n",
    "# easier and it's an easy way to see all of the important events\n",
    "bad_games = [] # Store bad games and remove them during SQL query - should be empty\n",
    "game_sequences = [] # List of all of the game sequences\n",
    "last_game_id = -1\n",
    "for period in periods:\n",
    "    game_id = period.game_id.values[0]\n",
    "    game_sequence = ''\n",
    "    # We carry the halftime/overtime score and reset on a new game \n",
    "    if game_id != last_game_id:\n",
    "        last_home = 0\n",
    "        last_away = 0\n",
    "    for i,row in period.iterrows():\n",
    "        # Excluding last 90 seconds\n",
    "        if row.time < 90:\n",
    "            break\n",
    "        points = (row.home_score - last_home) - (row.away_score - last_away)\n",
    "        # We need to make sure that the sequence is accurate, otherwise 2 digit scores throw off the analysis\n",
    "        if points > 3 or points < -3:\n",
    "            bad_games.append(row.game_id)\n",
    "            break\n",
    "        last_home = row.home_score\n",
    "        last_away = row.away_score\n",
    "        if 'timeout' in row.event.lower():\n",
    "            if 'tv' in row.event.lower():\n",
    "                game_sequence += 'OT'\n",
    "            if row.actor != -1: # -1 for teams that aren't in the team dictionaries\n",
    "                if NUMDict[str(row.actor)] in ABRDict[row.home]:\n",
    "                    game_sequence += 'HT'\n",
    "                elif NUMDict[str(row.actor)] in ABRDict[row.away]:\n",
    "                    game_sequence += 'AT'\n",
    "            else:\n",
    "                bad_games.append(str(game_id))\n",
    "                break\n",
    "        elif points > 0:\n",
    "            game_sequence += 'H' + str(points)\n",
    "        elif points < 0: \n",
    "            game_sequence += 'A' + str(abs(points))\n",
    "            \n",
    "    # Get current values so we can make sure we have the correct starting score \n",
    "    last_game_id = game_id\n",
    "    last_home = period.iloc[-1].home_score\n",
    "    last_away = period.iloc[-1].away_score\n",
    "    \n",
    "    # We could exclude uncompetitive games here (e.g., average score margin > x or final margin > y)\n",
    "            \n",
    "    game_sequences.append([game_id, game_sequence])\n",
    "\n",
    "# Check a random value to make sure it's correct\n",
    "print(game_sequences[42])\n",
    "#print(\"', '\".join(set(bad_games))) # Output bad games in a convenient format for SQL exclusion\n",
    "print('The result below should be an empty list \"[]\" (automatic detection of bad data):\\n', bad_games) "
   ]
  },
  {
   "cell_type": "code",
   "execution_count": 7,
   "metadata": {},
   "outputs": [],
   "source": [
    "# Some of the above is a bit slow so we can read/write here\n",
    "# Used a csv for readability. Pickle would also have worked.\n",
    "#write_list('./data/game_sequences.csv', game_sequences)\n",
    "#game_sequences = read_list('./data/game_sequences.csv')"
   ]
  },
  {
   "cell_type": "markdown",
   "metadata": {},
   "source": [
    "We use regular expressions$\\dagger$ to find runs and the sequences of scores that follow the runs. We define a \"run\" as any number of consecutive scores (including free throws) by a team. By collecting every possible scoring sequence, we can search for pattern that show changes in the effectiveness of timeouts. That is, if timeouts are effective at stopping runs, we should expect different behavior for timeouts called after 1 or 2 unanswered baskets than after 3 or 4 unanswered baskets. This is a general improvement over the previous method which required us to choose run criteria. In this work, we examine every scoring pattern so we don't bias the results with our preconceived notion of what constitutes a run.\n",
    "\n",
    "Next, we determine what happened after that run (e.g., running team continued to score, teams traded scores, time outs were called, etc.). We collect these data for the duration of the run and then the following 7 events (scores or timeouts). We require that there be 4 scores within these 7 events or else the sequence is discarded. As discussed in the previous work, I believe that multiple timeouts should be considered a \"win\" for the running team (especially if they are both called by the slipping team), but I have excluded this condition from this analysis as we are interested in the expectation value of a timeout.\n",
    "\n",
    "The example printed below shows all of the sequences that occurred after the home team scored three 3pts in a row ('H3H3H3').\n",
    "\n",
    "$\\dagger$*Regular expressions are a computational method for finding variable strings with some set pattern, like the one described above.*"
   ]
  },
  {
   "cell_type": "code",
   "execution_count": 8,
   "metadata": {},
   "outputs": [
    {
     "name": "stdout",
     "output_type": "stream",
     "text": [
      "['ATA2H2A3H3A3H3A2', 'H2ATH2A2H2A3OTHT', 'ATH2OTHTA2H3H2AT', 'ATA3H3OTHTH2A2H2', 'ATOTATA1A1A2H3H2', 'ATH2H1A2H2A2H3A2', 'ATA3OTHTH2A2H3H2', 'ATH2OTHTA2H1H2OT', 'ATOTHTH1H1A2H2', 'ATOTATH3A2H3H3AT', 'ATH2H3A2OTATA1H1', 'A2H2A3H3', 'ATA2A2HTOTHTH3A2', 'ATA2H2A2OTHTH3H2', 'H1A1A1OTHTH1H1A2', 'H3A2A1H2OTATA1A1', 'A2H2OTATA2OTATA1', 'A3H2A2HTOTHTH1', 'ATH2OTHTH2A2', 'ATOTATA2H1H1OTHT', 'ATOTHTATH2A2H2A2', 'H1H1OTATH3A1A1H2', 'OTHTH1H2A2HTH2OT', 'H2ATA3H2A2OTATH3', 'H2OTHTH1H2A3H2A2', 'OTATA1A1H2H1H1A3', 'ATA2H1H2OTHTH1H1', 'A2H3A2OTATA2H2H2', 'OTATH3A1A1H2A1A1', 'A1A1H2ATA1A1H2OT', 'ATA2A2H2H2OTATH3', 'H3H2ATOTHTA2H3H1', 'A2H2OTATA1HTH1', 'ATA2OTATA2H2H2A2', 'ATA3H2A2OTHTH1A2', 'A3A1A1H2H2ATH3H3', 'ATOTHTH2H1H1A1A1', 'A1A1H3H2A2H3ATA3', 'ATA1OTATA1H2A3A3', 'A3H2A2H3H2A2H2A2', 'ATA1H2H1A2A1A2H2', 'ATA2H2A3H3OTATA2', 'ATA2HTH2A3OTHTH3', 'OTHTH1A1A1', 'A3H2OTATA1A1H3AT', 'ATA3A2OTATH3A1A1', 'OTHTH2A3HT', 'ATA2OTATH1H1H2A2', 'ATA2A2H2H2H2OTAT', 'H3ATH2OTATA2H1H1', 'ATH2H1H1OTATA1H1', 'ATA1A2H2OTHTH2A2', 'OTHTA2H2H1A3H2H3', 'ATA1A1H2A2OTHTH3', 'ATH2H3A2H2H2H2AT', 'A3H1H1A3H3OTHTA2', 'H1H2A3A2HTOTHTH1', 'ATA2H1H1H1OTHTH2', 'H3A1A1H2A2A2H2H1', 'H3H2A1OTHTA2H3H2', 'ATA2A2H2A1A1H1H1', 'ATA2A2OTHTA2A1A1', 'HTOTHTOTHTH2A2H2', 'A3H2H1H1H2OTHTA1', 'A2OTHTA1H2A2A2H2']\n"
     ]
    }
   ],
   "source": [
    "# Regex search strings\n",
    "home_run = \"\"\"(H[1-3]){1,}\"\"\"\n",
    "away_run = \"\"\"(A[1-3]){1,}\"\"\"\n",
    "# Change to \"\"\"(H[1-3]){2,}([AOUT1-3]{2}|HT[HAOUT1-3]{10})\"\"\". Should be able to get groups directly \n",
    "# and should only find sequences where there are enough events after the run simplifying of the code below\n",
    "\n",
    "full_run_dictionary = defaultdict(list)\n",
    "for period in game_sequences:\n",
    "    for run_seq in [home_run, away_run]:\n",
    "        for start, end in [(m.start(0), m.end(0)) for m in re.finditer(run_seq, period[1])]:\n",
    "            # The regex does not find overlaps but we want to make sure that we are unbiased in defining what\n",
    "            # happens next under certain circumstances, so we need to collect subsequences of longer runs.\n",
    "            # As an example, a sequence like H2H3H2H1H1H3H2 will only match once, but we also want to consider\n",
    "            # H2H3H2 as a run. The regex will find H2H3H2(A[1-3T]|HT) but we need to include the possibility that\n",
    "            # the run continues. The loop below will add repeatedly for subsequences\n",
    "            while end - start >= 2:\n",
    "                run = period[1][start:end]\n",
    "                sequence = period[1][end:end+16] # Only take 8 events to limit sequences \n",
    "                # Need at the very least 8 characters for 4 scores\n",
    "                if len(sequence) >= 8:\n",
    "                    full_run_dictionary[run].append(sequence)\n",
    "                # Remove the last event and get the shorter sequence\n",
    "                end -= 2\n",
    "            \n",
    "print(full_run_dictionary['H3H3H3'])"
   ]
  },
  {
   "cell_type": "markdown",
   "metadata": {},
   "source": [
    "There are a large number of possible scoring sequences. For simplicity, we are going to start by grouping them based on value. Many fans might claim that different sequences might \"feel\" different and I think that is a worthwhile avenue of exploration, but I will leave that exercise to the reader (for now at least - if you are interested in pursuing this line of research, don't hesitate to reach out to me).\n",
    "\n",
    "The values of the run sequences and the post-run sequences are calculated and separated based on whether the run is \"terminated\" by a timeout and who the timeout caller was (official, home team, away team). Run values are calculated to be positive for the home team and negative for the away team so that we can easily correlate run continuation or ending based on the sign.\n",
    "\n",
    "Again, note that every sequence is considered, and only the terminal event is used to divide the sequences into categores (home timeout, away timeout, official timeout, no timeout). We are trying to determine the expected value of a calling a timeout at a particular moment in time, absent any knowledge of future events. This means that every subsequence of a long run is also considered. As an example, we look at one of the above sequnces:\n",
    "\n",
    "H3H3H3 H2 **AT** H2 A2 H2 A3\n",
    "\n",
    "will be scored as an 11 point home run that is terminated in an away timeout with a change in margin of -1 (away team expected to gain 1 point from this timeout).\n",
    "\n",
    "However, the sequence\n",
    "\n",
    "H3H3H3 **H2** AT H2 A2 H2\n",
    "\n",
    "also needs to be considered because we need to know the expected value of not calling a timeout after 9 home points. In this case, we would score home run 9 with expected change in margin of +4 (terminal event is included in the minimum 4 scores). These sequences would not be compared directly. The first would be compared with other sequences that were valued at 11 points and the second would be compared with sequences valued at 9 points. In this way, we would expect to see a difference between sequences where the timeout was called after 9 points and 11 points."
   ]
  },
  {
   "cell_type": "code",
   "execution_count": 9,
   "metadata": {},
   "outputs": [
    {
     "name": "stdout",
     "output_type": "stream",
     "text": [
      "Number of sequence types: 1142\n",
      "Total sequences: 325762\n",
      "Sequences running into last 90 seconds: 11091\n",
      "Sequences with multiple timeouts: 246223\n"
     ]
    }
   ],
   "source": [
    "# Here we find out how much each sequence is worth and the value of the scores after the timeout\n",
    "# We produce a list of [run_sequence, value of run, [lists of values of post TO sequences by type of timeout]]\n",
    "# that is, [no timeout, all timeouts, official timeout, home timeout, away timeout]\n",
    "score_histories = []\n",
    "total = 0\n",
    "not_enough = 0\n",
    "multiple_t = 0\n",
    "for key in full_run_dictionary:\n",
    "    run_value = find_run_value(key)\n",
    "    # We collect all of the '-1' sequences so we can determine if there is some\n",
    "    # parity bias (i.e., even or odd number of trailing scores)\n",
    "    seq_values = {'NoT': [],\n",
    "                'NoT-1': [],\n",
    "                'HT': [],\n",
    "                'HT-1': [],\n",
    "                'AT': [],\n",
    "                'AT-1': [],\n",
    "                'OT': [],\n",
    "                'OT-1': []}\n",
    "    for seq in full_run_dictionary[key]:\n",
    "        total += 1\n",
    "        if len(re.findall(r'T', seq)) > 1:\n",
    "            multiple_t += 1\n",
    "            # We could consider breaking here to only look at sequences with 1 timeout\n",
    "        # Find values of the runs\n",
    "        # If a sequence is too short (i.e., near the end of the period) don't count it and skip ahead\n",
    "        try:\n",
    "            # find_sequence_value returns None if the sequence is too short, giving a TypeError\n",
    "            # 'NoneType' object is not iterable\n",
    "            seq_value, seq_v_less1 = find_sequence_value(seq, scores=4)\n",
    "        except TypeError:\n",
    "            not_enough += 1\n",
    "            continue\n",
    "        # Sort sequences based on whether a TO was called and who called it\n",
    "        caller = seq[0] if seq[1] == 'T' else 'No'\n",
    "        seq_values[caller + 'T'].append(seq_value)\n",
    "        seq_values[caller + 'T-1'].append(seq_v_less1)\n",
    "    # Adds the above calculated and divided values to a list.\n",
    "    score_histories.append([key, run_value, seq_values])\n",
    "        \n",
    "print(\"Number of sequence types:\", len(score_histories))\n",
    "print(\"Total sequences:\", total)\n",
    "print(\"Sequences running into last 90 seconds:\", not_enough)\n",
    "print(\"Sequences with multiple timeouts:\", multiple_t)"
   ]
  },
  {
   "cell_type": "code",
   "execution_count": 10,
   "metadata": {},
   "outputs": [],
   "source": [
    "# Collect sequences based on score\n",
    "combined = defaultdict(list)\n",
    "for values in score_histories:\n",
    "    for seq_type in values[2].keys():\n",
    "        # combined[(score, to type)]\n",
    "        combined[(values[1], seq_type)].extend(values[2][seq_type])\n",
    "#After arrays are complete, convert them to np.array to make calculation of mean faster and easier\n",
    "np_combined = {}\n",
    "for k,v in combined.items():\n",
    "    np_combined[k] = np.array(v)"
   ]
  },
  {
   "cell_type": "code",
   "execution_count": 11,
   "metadata": {},
   "outputs": [
    {
     "name": "stdout",
     "output_type": "stream",
     "text": [
      "Available TO types: dict_keys(['NoT', 'NoT-1', 'HT', 'HT-1', 'AT', 'AT-1', 'OT', 'OT-1'])\n"
     ]
    }
   ],
   "source": [
    "print('Available TO types:', seq_values.keys())"
   ]
  },
  {
   "cell_type": "markdown",
   "metadata": {},
   "source": [
    "## Results\n",
    "\n",
    "The plots below show the change in score margin against the size of the run. The x-axis shows the size of the run, and the y-axis shows the change in score margin after the next four scores (i.e., the expected change in score after a run of the given length terminated by the indicated ending event (No TO, Away TO, Home TO, Official TO). A line is drawn through zero as a guide to separate running/home team advantage (positive score margins) and slipping/away team advantage (negative score margins). Inititally, we will only be discussing the home team, but as will be discussed later, the same analysis applies to runs by the away team.\n",
    "\n",
    "A few important notes:\n",
    "\n",
    "1. The range is shown for 1-9 points. Due to the large number of time stoppages in basketball, games rarely have  scoring runs exceeding 9 points; they are almost always interrupted by at the very least an official timeout. Statistical analysis becomes more difficult. In the future, I may use bootstrapping to extend this range.\n",
    "\n",
    "1. \"Runs\" of length 1 are a bit odd and probably should be examined more closely\n",
    "\n",
    "1. The standard error of the sampling mean is included as y-error bars. Most of the examples have enough samples for the error bars to be hidden by the data point.\n",
    "\n",
    "1. There is an obvious home-court advantage.\n",
    "\n",
    "\n",
    "## Runs by the Home Team\n",
    "\n",
    "\n",
    "### No Timeout and Official Timeouts\n",
    "\n",
    "First, we show sequences where no timeout was called. When no timeout is called, we can see that the expected change in score margin over the next 4 scores is very close to zero, which is one of the points we wanted to make: Even in the absence of a timeout, runs should be expected to stop (that is, return to trading baskets, which has $\\delta$score margin = 0. More importantly, the line is flat (with p <= 0.01, detailed calculations are provided after the conclusions). A flat line indicates that there is no correlation between the length of the run and the expected value of not calling a time out. This is a very important point that I will repeate many times below. \n"
   ]
  },
  {
   "cell_type": "code",
   "execution_count": 17,
   "metadata": {},
   "outputs": [
    {
     "name": "stdout",
     "output_type": "stream",
     "text": [
      "Expected value of No Timeout:\t\t0.11 +/- 0.07\n",
      "                            OLS Regression Results                            \n",
      "==============================================================================\n",
      "Dep. Variable:                      y   R-squared:                       0.796\n",
      "Model:                            OLS   Adj. R-squared:                  0.767\n",
      "Method:                 Least Squares   F-statistic:                     27.32\n",
      "Date:                Wed, 21 Feb 2018   Prob (F-statistic):            0.00122\n",
      "Time:                        11:51:06   Log-Likelihood:                 11.760\n",
      "No. Observations:                   8   AIC:                            -21.52\n",
      "Df Residuals:                       7   BIC:                            -21.44\n",
      "Df Model:                           1                                         \n",
      "Covariance Type:            nonrobust                                         \n",
      "==============================================================================\n",
      "                 coef    std err          t      P>|t|      [0.025      0.975]\n",
      "------------------------------------------------------------------------------\n",
      "x1             0.0184      0.004      5.226      0.001       0.010       0.027\n",
      "==============================================================================\n",
      "Omnibus:                        0.557   Durbin-Watson:                   2.439\n",
      "Prob(Omnibus):                  0.757   Jarque-Bera (JB):                0.448\n",
      "Skew:                          -0.443   Prob(JB):                        0.799\n",
      "Kurtosis:                       2.252   Cond. No.                         1.00\n",
      "==============================================================================\n",
      "\n",
      "Warnings:\n",
      "[1] Standard Errors assume that the covariance matrix of the errors is correctly specified.\n"
     ]
    },
    {
     "name": "stderr",
     "output_type": "stream",
     "text": [
      "/home/mattfred/anaconda2/envs/py3/lib/python3.6/site-packages/scipy/stats/stats.py:1390: UserWarning: kurtosistest only valid for n>=20 ... continuing anyway, n=8\n",
      "  \"anyway, n=%i\" % int(n))\n"
     ]
    },
    {
     "data": {
      "image/png": "[encoded data removed]",
      "text/plain": [
       "<matplotlib.figure.Figure at 0x7fe0c027be10>"
      ]
     },
     "metadata": {},
     "output_type": "display_data"
    }
   ],
   "source": [
    "plot_averages(['NoT'], np_combined)"
   ]
  },
  {
   "cell_type": "markdown",
   "metadata": {},
   "source": [
    "### Official Timeouts\n",
    "\n",
    "Official timeouts are very informative because possession is effectively random, so we can avoid bias from a team's ability to set up scoring plays. As can be seen, an official timout is provides advantage to the ***home/running*** team. Traditional hypothesis testing shows that official timeouts help the home/running team with p <= 0.01. If calling a timeout serves to \"settle\" players, an official timeout should be just as effective as a \"slipping\" timeout. However, the timeout significantly hurts the slipping team. This result seems to challenge the idea that any stoppage helps the slipping team.  "
   ]
  },
  {
   "cell_type": "code",
   "execution_count": 18,
   "metadata": {},
   "outputs": [
    {
     "name": "stdout",
     "output_type": "stream",
     "text": [
      "Expected value of No Timeout:\t\t0.11 +/- 0.07\n",
      "                            OLS Regression Results                            \n",
      "==============================================================================\n",
      "Dep. Variable:                      y   R-squared:                       0.796\n",
      "Model:                            OLS   Adj. R-squared:                  0.767\n",
      "Method:                 Least Squares   F-statistic:                     27.32\n",
      "Date:                Wed, 21 Feb 2018   Prob (F-statistic):            0.00122\n",
      "Time:                        11:51:30   Log-Likelihood:                 11.760\n",
      "No. Observations:                   8   AIC:                            -21.52\n",
      "Df Residuals:                       7   BIC:                            -21.44\n",
      "Df Model:                           1                                         \n",
      "Covariance Type:            nonrobust                                         \n",
      "==============================================================================\n",
      "                 coef    std err          t      P>|t|      [0.025      0.975]\n",
      "------------------------------------------------------------------------------\n",
      "x1             0.0184      0.004      5.226      0.001       0.010       0.027\n",
      "==============================================================================\n",
      "Omnibus:                        0.557   Durbin-Watson:                   2.439\n",
      "Prob(Omnibus):                  0.757   Jarque-Bera (JB):                0.448\n",
      "Skew:                          -0.443   Prob(JB):                        0.799\n",
      "Kurtosis:                       2.252   Cond. No.                         1.00\n",
      "==============================================================================\n",
      "\n",
      "Warnings:\n",
      "[1] Standard Errors assume that the covariance matrix of the errors is correctly specified.\n",
      "Expected value of Official Timeout:\t\t0.43 +/- 0.12\n",
      "                            OLS Regression Results                            \n",
      "==============================================================================\n",
      "Dep. Variable:                      y   R-squared:                       0.843\n",
      "Model:                            OLS   Adj. R-squared:                  0.821\n",
      "Method:                 Least Squares   F-statistic:                     37.57\n",
      "Date:                Wed, 21 Feb 2018   Prob (F-statistic):           0.000477\n",
      "Time:                        11:51:31   Log-Likelihood:                 3.4883\n",
      "No. Observations:                   8   AIC:                            -4.977\n",
      "Df Residuals:                       7   BIC:                            -4.897\n",
      "Df Model:                           1                                         \n",
      "Covariance Type:            nonrobust                                         \n",
      "==============================================================================\n",
      "                 coef    std err          t      P>|t|      [0.025      0.975]\n",
      "------------------------------------------------------------------------------\n",
      "x1             0.0608      0.010      6.130      0.000       0.037       0.084\n",
      "==============================================================================\n",
      "Omnibus:                        2.435   Durbin-Watson:                   1.867\n",
      "Prob(Omnibus):                  0.296   Jarque-Bera (JB):                0.964\n",
      "Skew:                          -0.838   Prob(JB):                        0.618\n",
      "Kurtosis:                       2.717   Cond. No.                         1.00\n",
      "==============================================================================\n",
      "\n",
      "Warnings:\n",
      "[1] Standard Errors assume that the covariance matrix of the errors is correctly specified.\n"
     ]
    },
    {
     "name": "stderr",
     "output_type": "stream",
     "text": [
      "/home/mattfred/anaconda2/envs/py3/lib/python3.6/site-packages/scipy/stats/stats.py:1390: UserWarning: kurtosistest only valid for n>=20 ... continuing anyway, n=8\n",
      "  \"anyway, n=%i\" % int(n))\n"
     ]
    },
    {
     "data": {
      "image/png": "[encoded data removed]",
      "text/plain": [
       "<matplotlib.figure.Figure at 0x7fe0c2d2e860>"
      ]
     },
     "metadata": {},
     "output_type": "display_data"
    }
   ],
   "source": [
    "plot_averages(['NoT', 'OT'], np_combined)"
   ]
  },
  {
   "cell_type": "markdown",
   "metadata": {},
   "source": [
    "### Home/Runner Timeout\n",
    "\n",
    "When the home/running team calls a timeout, the score margin ***increases*** compared with no timeout or an official timeout. As can be seen from the error bars, there are not surprisingly few examples of the home/running team calling a timeout  "
   ]
  },
  {
   "cell_type": "code",
   "execution_count": null,
   "metadata": {},
   "outputs": [],
   "source": [
    "plot_averages(['NoT', 'OT', 'HT'], np_combined)\n",
    "#plot_averages(seq_values.keys())"
   ]
  },
  {
   "cell_type": "markdown",
   "metadata": {},
   "source": [
    "### Away/Slipper Timeout\n",
    "\n",
    "Okay, okay, \"What about the slipping/away teams!?\" you ask. Well, as shown below, we can very clearly see that there is ***no benefit*** to calling a timeout as the away/slipper compared with no timeout (and maybe even worse if we exclude 1-point \"runs\")."
   ]
  },
  {
   "cell_type": "code",
   "execution_count": 19,
   "metadata": {},
   "outputs": [
    {
     "name": "stdout",
     "output_type": "stream",
     "text": [
      "Expected value of No Timeout:\t\t0.11 +/- 0.07\n",
      "                            OLS Regression Results                            \n",
      "==============================================================================\n",
      "Dep. Variable:                      y   R-squared:                       0.796\n",
      "Model:                            OLS   Adj. R-squared:                  0.767\n",
      "Method:                 Least Squares   F-statistic:                     27.32\n",
      "Date:                Wed, 21 Feb 2018   Prob (F-statistic):            0.00122\n",
      "Time:                        11:55:06   Log-Likelihood:                 11.760\n",
      "No. Observations:                   8   AIC:                            -21.52\n",
      "Df Residuals:                       7   BIC:                            -21.44\n",
      "Df Model:                           1                                         \n",
      "Covariance Type:            nonrobust                                         \n",
      "==============================================================================\n",
      "                 coef    std err          t      P>|t|      [0.025      0.975]\n",
      "------------------------------------------------------------------------------\n",
      "x1             0.0184      0.004      5.226      0.001       0.010       0.027\n",
      "==============================================================================\n",
      "Omnibus:                        0.557   Durbin-Watson:                   2.439\n",
      "Prob(Omnibus):                  0.757   Jarque-Bera (JB):                0.448\n",
      "Skew:                          -0.443   Prob(JB):                        0.799\n",
      "Kurtosis:                       2.252   Cond. No.                         1.00\n",
      "==============================================================================\n",
      "\n",
      "Warnings:\n",
      "[1] Standard Errors assume that the covariance matrix of the errors is correctly specified.\n",
      "Expected value of Away Timeout:\t\t0.17 +/- 0.10\n",
      "                            OLS Regression Results                            \n",
      "==============================================================================\n",
      "Dep. Variable:                      y   R-squared:                       0.636\n",
      "Model:                            OLS   Adj. R-squared:                  0.584\n",
      "Method:                 Least Squares   F-statistic:                     12.23\n",
      "Date:                Wed, 21 Feb 2018   Prob (F-statistic):             0.0100\n",
      "Time:                        11:55:06   Log-Likelihood:                 6.3215\n",
      "No. Observations:                   8   AIC:                            -10.64\n",
      "Df Residuals:                       7   BIC:                            -10.56\n",
      "Df Model:                           1                                         \n",
      "Covariance Type:            nonrobust                                         \n",
      "==============================================================================\n",
      "                 coef    std err          t      P>|t|      [0.025      0.975]\n",
      "------------------------------------------------------------------------------\n",
      "x1             0.0244      0.007      3.498      0.010       0.008       0.041\n",
      "==============================================================================\n",
      "Omnibus:                        0.287   Durbin-Watson:                   2.151\n",
      "Prob(Omnibus):                  0.866   Jarque-Bera (JB):                0.397\n",
      "Skew:                          -0.026   Prob(JB):                        0.820\n",
      "Kurtosis:                       1.909   Cond. No.                         1.00\n",
      "==============================================================================\n",
      "\n",
      "Warnings:\n",
      "[1] Standard Errors assume that the covariance matrix of the errors is correctly specified.\n"
     ]
    },
    {
     "name": "stderr",
     "output_type": "stream",
     "text": [
      "/home/mattfred/anaconda2/envs/py3/lib/python3.6/site-packages/scipy/stats/stats.py:1390: UserWarning: kurtosistest only valid for n>=20 ... continuing anyway, n=8\n",
      "  \"anyway, n=%i\" % int(n))\n"
     ]
    },
    {
     "data": {
      "image/png": "[encoded data removed]",
      "text/plain": [
       "<matplotlib.figure.Figure at 0x7fe0c2a7fb00>"
      ]
     },
     "metadata": {},
     "output_type": "display_data"
    }
   ],
   "source": [
    "plot_averages(['NoT', 'AT'], np_combined,ylim=(-1,1.5))"
   ]
  },
  {
   "cell_type": "markdown",
   "metadata": {},
   "source": [
    "## Runs by the Away Team\n",
    "\n",
    "The axes are reversed so the trends are spatially the same as above. Note that the running team is now indicated by negative points and a longer run is more negative. The run still increases to the right, and the benefit to the running team is still towards the top. \n",
    "\n",
    "The \"away\" run sequences have nearly the same features with the exception of an increase in the home court advantage. It appears to be much more difficult to sustain runs in nearly every case as the away team. I don't believe this is a particularly unexpected or contentious observation.\n",
    "\n",
    "The score away timeout sequences with |value| > 7 should be somewhat doubted as there are very few examples of them (note the point at -8). However, the sequences with lower value have at least an order of magnitude more points, making them more reliable.\n",
    "\n",
    "The regression toward zero of the one point runs is interesting as well. I'd suggest that perhaps crowd noise during free throws has something to do with this decrease in expected value \n",
    "\n",
    "All other features are the same, most importantly the absence of any kind of dependence of margin score on run size. "
   ]
  },
  {
   "cell_type": "code",
   "execution_count": 52,
   "metadata": {},
   "outputs": [
    {
     "name": "stdout",
     "output_type": "stream",
     "text": [
      "Expected value of No Timeout:\t\t0.83 +/- 0.18\n",
      "                            OLS Regression Results                            \n",
      "==============================================================================\n",
      "Dep. Variable:                      y   R-squared:                       0.672\n",
      "Model:                            OLS   Adj. R-squared:                  0.626\n",
      "Method:                 Least Squares   F-statistic:                     14.37\n",
      "Date:                Wed, 21 Feb 2018   Prob (F-statistic):            0.00679\n",
      "Time:                        15:07:15   Log-Likelihood:                -4.5278\n",
      "No. Observations:                   8   AIC:                             11.06\n",
      "Df Residuals:                       7   BIC:                             11.14\n",
      "Df Model:                           1                                         \n",
      "Covariance Type:            nonrobust                                         \n",
      "==============================================================================\n",
      "                 coef    std err          t      P>|t|      [0.025      0.975]\n",
      "------------------------------------------------------------------------------\n",
      "x1            -0.1025      0.027     -3.791      0.007      -0.166      -0.039\n",
      "==============================================================================\n",
      "Omnibus:                        1.108   Durbin-Watson:                   0.240\n",
      "Prob(Omnibus):                  0.575   Jarque-Bera (JB):                0.523\n",
      "Skew:                          -0.576   Prob(JB):                        0.770\n",
      "Kurtosis:                       2.507   Cond. No.                         1.00\n",
      "==============================================================================\n",
      "\n",
      "Warnings:\n",
      "[1] Standard Errors assume that the covariance matrix of the errors is correctly specified.\n",
      "Expected value of Home Timeout:\t\t0.70 +/- 0.22\n",
      "                            OLS Regression Results                            \n",
      "==============================================================================\n",
      "Dep. Variable:                      y   R-squared:                       0.635\n",
      "Model:                            OLS   Adj. R-squared:                  0.583\n",
      "Method:                 Least Squares   F-statistic:                     12.19\n",
      "Date:                Wed, 21 Feb 2018   Prob (F-statistic):             0.0101\n",
      "Time:                        15:07:15   Log-Likelihood:                -3.8642\n",
      "No. Observations:                   8   AIC:                             9.728\n",
      "Df Residuals:                       7   BIC:                             9.808\n",
      "Df Model:                           1                                         \n",
      "Covariance Type:            nonrobust                                         \n",
      "==============================================================================\n",
      "                 coef    std err          t      P>|t|      [0.025      0.975]\n",
      "------------------------------------------------------------------------------\n",
      "x1            -0.0869      0.025     -3.491      0.010      -0.146      -0.028\n",
      "==============================================================================\n",
      "Omnibus:                        7.561   Durbin-Watson:                   0.467\n",
      "Prob(Omnibus):                  0.023   Jarque-Bera (JB):                2.311\n",
      "Skew:                          -1.243   Prob(JB):                        0.315\n",
      "Kurtosis:                       3.865   Cond. No.                         1.00\n",
      "==============================================================================\n",
      "\n",
      "Warnings:\n",
      "[1] Standard Errors assume that the covariance matrix of the errors is correctly specified.\n"
     ]
    },
    {
     "name": "stderr",
     "output_type": "stream",
     "text": [
      "/home/mattfred/anaconda2/envs/py3/lib/python3.6/site-packages/scipy/stats/stats.py:1390: UserWarning: kurtosistest only valid for n>=20 ... continuing anyway, n=8\n",
      "  \"anyway, n=%i\" % int(n))\n"
     ]
    },
    {
     "data": {
      "image/png": "[encoded data removed]",
      "text/plain": [
       "<matplotlib.figure.Figure at 0x7fe0b8930400>"
      ]
     },
     "metadata": {},
     "output_type": "display_data"
    }
   ],
   "source": [
    "plot_averages(['NoT', 'HT'], np_combined, runner='Away')"
   ]
  },
  {
   "cell_type": "code",
   "execution_count": 27,
   "metadata": {},
   "outputs": [
    {
     "name": "stdout",
     "output_type": "stream",
     "text": [
      "Number -8 away timeout runs:\n",
      " 2.36363636364 11\n"
     ]
    }
   ],
   "source": [
    "print('Number -8 away timeout runs:\\n', np_combined[(-8,'AT')].mean(), len(np_combined[(-8, 'AT')]))"
   ]
  },
  {
   "cell_type": "code",
   "execution_count": 60,
   "metadata": {},
   "outputs": [
    {
     "name": "stdout",
     "output_type": "stream",
     "text": [
      "8\n",
      "run length\t|\tP value\t|\tT stat\t|\tSignigicant Better\t|\tSignificant Worse\n",
      "\t2\t|\t0.074\t|\t1.790\t|\tTrue\t|\tFalse\n",
      "\t3\t|\t0.413\t|\t0.818\t|\tFalse\t|\tFalse\n",
      "\t4\t|\t0.369\t|\t0.898\t|\tFalse\t|\tFalse\n",
      "\t5\t|\t0.558\t|\t-0.770\t|\tFalse\t|\tFalse\n",
      "\t6\t|\t0.007\t|\t-0.008\t|\tFalse\t|\tTrue\n",
      "\t7\t|\t0.985\t|\t0.018\t|\tFalse\t|\tFalse\n",
      "\t8\t|\t0.055\t|\t1.919\t|\tTrue\t|\tFalse\n",
      "\t9\t|\t0.491\t|\t-0.661\t|\tFalse\t|\tFalse\n",
      "\n",
      "8\n",
      "run length\t|\tP value\t|\tT stat\t|\tSignigicant Better\t|\tSignificant Worse\n",
      "\t-9\t|\t0.494\t|\t-0.666\t|\tFalse\t|\tFalse\n",
      "\t-8\t|\t0.214\t|\t-0.272\t|\tFalse\t|\tFalse\n",
      "\t-7\t|\t0.959\t|\t0.051\t|\tFalse\t|\tFalse\n",
      "\t-6\t|\t0.507\t|\t0.664\t|\tFalse\t|\tFalse\n",
      "\t-5\t|\t0.677\t|\t-0.988\t|\tFalse\t|\tFalse\n",
      "\t-4\t|\t0.888\t|\t-1.589\t|\tFalse\t|\tFalse\n",
      "\t-3\t|\t0.995\t|\t-2.789\t|\tFalse\t|\tFalse\n",
      "\t-2\t|\t0.765\t|\t-1.188\t|\tFalse\t|\tFalse\n"
     ]
    }
   ],
   "source": [
    "t_test('AT', 'NoT', np_combined, runner = \"Home\")\n",
    "print()\n",
    "t_test('HT', 'NoT', np_combined, runner = \"Away\")"
   ]
  },
  {
   "cell_type": "code",
   "execution_count": null,
   "metadata": {},
   "outputs": [],
   "source": [
    "np.array([np_combined[(-8,'AT')]for i in range(-10,0):  "
   ]
  },
  {
   "cell_type": "markdown",
   "metadata": {},
   "source": [
    "## Conclusions\n",
    "\n",
    "All of this analysis is performed with broad strokes. Coaches know their teams and train them to expect different strategies and \n",
    "\n",
    "For example, while the aggregate data seem to indicate that timeouts do not settle players, individual coaches definitely have the ability to recognize when their team may benefit from a timeout to settle down.\n",
    "\n",
    "The high frequency of timeouts once again complicates the analysis as it seems questionable to consider a timeout effective if multiple are called, but in this work, we ignore this complication and look strictly at the expected point gain/loss.\n",
    "\n",
    "Thus, Roy Williams should feel vindicated in his refusal to call these timeouts that apparently have the exact opposite effect that fans and coaches seems to think. Not that he needs it with <a href=\"http://scout.com/college/north-carolina/Bolt/LOOK-UNCs-2017-National-Championship-Rings-107146391\">his rings.</a>"
   ]
  },
  {
   "cell_type": "markdown",
   "metadata": {},
   "source": [
    "## Supplemental Information\n",
    "\n",
    "I was curious whethere there were any effects of parity on these results (that is, counting the next few scores as an even number or an odd number). To address this concern, I also calculate the same results using the next 3 scores instead of the next 4 scores. There were no noticeable differences.\n",
    "\n",
    "Similarly, I calculated 5 and 6 scores. The only noticeable effect was a systematic decrease in the size of effects. That is, there is a general regression to zero average score margin as the post sequence length increases. This can be examined by altering the \"scores\" parameter in the \"find_sequence_value\" function.\n",
    "\n",
    "The three score results are shown with their 4 score counterparts and indicated with \"-1\". These values are automatically calculated, so changing \"scores\" in find_sequence_value will automtically generate the \"less one\" sequences."
   ]
  },
  {
   "cell_type": "code",
   "execution_count": null,
   "metadata": {},
   "outputs": [],
   "source": [
    "#plot_averages(seq_values.keys(), np_combined) # Universally biases towards away team as expected\n",
    "plot_averages(seq_values.keys(), np_combined, team='Away')"
   ]
  },
  {
   "cell_type": "code",
   "execution_count": null,
   "metadata": {},
   "outputs": [],
   "source": []
  },
  {
   "cell_type": "code",
   "execution_count": null,
   "metadata": {},
   "outputs": [],
   "source": []
  },
  {
   "cell_type": "code",
   "execution_count": null,
   "metadata": {},
   "outputs": [],
   "source": [
    "    "
   ]
  },
  {
   "cell_type": "code",
   "execution_count": null,
   "metadata": {},
   "outputs": [],
   "source": []
  },
  {
   "cell_type": "code",
   "execution_count": null,
   "metadata": {},
   "outputs": [],
   "source": []
  },
  {
   "cell_type": "code",
   "execution_count": null,
   "metadata": {},
   "outputs": [],
   "source": []
  },
  {
   "cell_type": "code",
   "execution_count": null,
   "metadata": {},
   "outputs": [],
   "source": []
  },
  {
   "cell_type": "code",
   "execution_count": null,
   "metadata": {},
   "outputs": [],
   "source": []
  },
  {
   "cell_type": "code",
   "execution_count": null,
   "metadata": {},
   "outputs": [],
   "source": []
  },
  {
   "cell_type": "code",
   "execution_count": null,
   "metadata": {},
   "outputs": [],
   "source": [
    "# Nice little alert to let me know when the Notebook has finished\n",
    "from IPython.display import HTML\n",
    "HTML('''<script>\n",
    "alert('Done!')\n",
    "</script>''')"
   ]
  }
 ],
 "metadata": {
  "kernelspec": {
   "display_name": "Python 3",
   "language": "python",
   "name": "python3"
  },
  "language_info": {
   "codemirror_mode": {
    "name": "ipython",
    "version": 3
   },
   "file_extension": ".py",
   "mimetype": "text/x-python",
   "name": "python",
   "nbconvert_exporter": "python",
   "pygments_lexer": "ipython3",
   "version": "3.6.3"
  }
 },
 "nbformat": 4,
 "nbformat_minor": 2
}
