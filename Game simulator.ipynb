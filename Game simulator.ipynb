{
 "cells": [
  {
   "cell_type": "markdown",
   "metadata": {},
   "source": [
    "Scoring runs are expected in any contest just by chance. This can easily be seen from simple coin flips. If a team is expected to convert 50% of possessions (equivalent to a coin flip), then they can be expected to convert several in a row while the other team converts none. In this way, scoring runs should be expected in most basketabll contests. I believe that far too much emphasis is placed on \"momentum\", and players should be expected to recognize these \"slumps\" and \"streaks\" as statistically probable events; that is, these scoring streaks and slumps should be expected to regress to the mean over time and end naturally.\n",
    "\n",
    "Here, I briefly provide a simple tool to demonstrate this effect."
   ]
  },
  {
   "cell_type": "code",
   "execution_count": null,
   "metadata": {
    "collapsed": true
   },
   "outputs": [],
   "source": [
    "# Simulate 10 possessions by each team assuming that each team has a 50% chance to score on every possession\n",
    "# That is, points per possession = 1, including turnovers, rebounds, etc.\n",
    "# We don't expect this to occur in every set of 10 possessions, but we are interested in how frequently it occurs.\n",
    "from random import randint\n",
    "team1 = []\n",
    "team2 = []\n",
    "for i in range(10):\n",
    "    # Making scorse worth 2\n",
    "    team1.append(randint(0,1)*2)\n",
    "    team2.append(randint(0,1)*2)\n",
    "print(\"Team 1\", team1, \"Final score\", sum(team1))\n",
    "print(\"Team 2\", team2, \"Final score\", sum(team2))\n",
    "\n",
    "# My first actual test of this code produced these scores, where Team 2 managed to score 3 unanswered baskets,\n",
    "# which is the primary criterion we use to describe a scoring run\n",
    "# Team 1 [2, 0, 2, 0, 0, 0, 2, 2, 0, 0] Final score 8\n",
    "# Team 2 [2, 0, 2, 2, 2, 2, 2, 2, 0, 0] Final score 14\n",
    "\n",
    "# Try running it a few times and see what kind of scores you get."
   ]
  },
  {
   "cell_type": "code",
   "execution_count": null,
   "metadata": {
    "collapsed": true
   },
   "outputs": [],
   "source": [
    "# Now, we calculate the likelihood that any complete game results in a run of this nature\n",
    "# We use 70 as the median number of possession in a college basketball game (not an exact value)\n",
    "# (from https://www.teamrankings.com/ncaa-basketball/stat/possessions-per-game)\n",
    "\n",
    "num_of_games = 50\n",
    "possessions_per_game = 70\n",
    "\n",
    "run_count = 0\n",
    "extra_runs = 0\n",
    "for j in range(num_of_games):\n",
    "    team1 = []\n",
    "    team2 = []\n",
    "    # Number of poessessions per game\n",
    "    for i in range(possessions_per_game):\n",
    "        team1.append(randint(0,1)*2)\n",
    "        team2.append(randint(0,1)*2)\n",
    "    team1run = 0\n",
    "    team2run = 0\n",
    "    # To determine if a scoring run is occuring, we want the point margin to increase monotonoically (in the same direction).\n",
    "    # This code simply counts the number of times 1 team has scored when the other did not score.\n",
    "    # If one team scores 3 baskets in a row with the other team not scoring, we count a run.\n",
    "    # We are being very conservative here and reseting the count if both teams score or neither team scores.\n",
    "    # More advanced analysis is used below.\n",
    "    new_game = True\n",
    "    for score in zip(team1,team2):\n",
    "        if score[0] > score[1]:\n",
    "            team1run += 1\n",
    "            team2run = 0\n",
    "        elif score[0] < score[1]:\n",
    "            team2run += 1\n",
    "            team1run = 0\n",
    "        elif score[0] > 0 and score[1] > 0: # Both teams scored, we reset\n",
    "            team1run = 0\n",
    "            team2run = 0\n",
    "        # We are going to allow for missing baskets on both ends to not stop a run\n",
    "        if team1run >= 3 or team2run >= 3:\n",
    "            if not new_game:\n",
    "                extra_runs += 1\n",
    "            new_game = False\n",
    "            run_count += 1\n",
    "            \n",
    "            \n",
    "            \n",
    "            \n",
    "# Number or expected runs per game\n",
    "print('Number of runs per game: ', run_count/num_of_games)\n",
    "# Obviously this is a distribution, but we also want to show\n",
    "# that most games feature at least 1 run\n",
    "print('Percent of games with at least 1 run: ', (run_count-extra_runs)/num_of_games)"
   ]
  },
  {
   "cell_type": "markdown",
   "metadata": {},
   "source": [
    "Additionally, scoring runs may simply be a consequence of one team being better than the other. If you change the 50% conversions by both teams to 75% for one team and 25% for the other, the occurance of scoring runs drastically increases. I suggest that a timeout as a means to end a run may simply be a last-ditch effort to recover from a losing effort and may ultimately have no effect on the outcome of the game. In contrast, well-matched teams can expect regression to the mean despite momentary setbacks."
   ]
  },
  {
   "cell_type": "code",
   "execution_count": null,
   "metadata": {
    "collapsed": true
   },
   "outputs": [],
   "source": [
    "num_of_games = 50\n",
    "possessions_per_game = 70\n",
    "\n",
    "run_count = 0\n",
    "extra_runs = 0\n",
    "for j in range(num_of_games):\n",
    "    new_game = True\n",
    "    team1 = []\n",
    "    team2 = []\n",
    "    # Number of poessessions per game\n",
    "    for i in range(possessions_per_game):\n",
    "        team1.append(2 if randint(0,10) > 3 else 0)  # 70% of posessions result in scores\n",
    "        team2.append(2 if randint(0,10) > 7 else 0)  # 30% of posessions result in scores\n",
    "    team1run = 0\n",
    "    team2run = 0\n",
    "    # To determine if a scoring run is occuring, we want the point margin to increase monotonoically (in the same direction).\n",
    "    # This code simply counts the number of times 1 team has scored when the other did not score.\n",
    "    # If one team scores 3 baskets in a row with the other team not scoring, we count a run.\n",
    "    # We are being very conservative here and reseting the count if both teams score or neither team scores.\n",
    "    # More advanced analysis is used below.  \n",
    "    for score in zip(team1,team2):\n",
    "        if score[0] > score[1]:\n",
    "            team1run += 1\n",
    "            team2run = 0\n",
    "        elif score[0] < score[1]:\n",
    "            team2run += 1\n",
    "            team1run = 0\n",
    "        elif score[0] > 0 and score[1] > 0: # Both teams scored, we reset\n",
    "            team1run = 0\n",
    "            team2run = 0\n",
    "        # We are going to allow for missing baskets on both ends to not stop a run\n",
    "        if team1run >= 3 or team2run >= 3:\n",
    "            # We are going to subtract runs if they occur in a game that already had one \n",
    "            if not new_game:\n",
    "                extra_runs += 1\n",
    "            new_game = False\n",
    "            run_count += 1\n",
    "            \n",
    "          \n",
    "        \n",
    "# Number or expected runs per game\n",
    "print('Number of runs per game: ', run_count/num_of_games)\n",
    "# Obviously this is a distribution, but we also want to show\n",
    "# that most games feature at least 1 run\n",
    "print('Percent of games with at least 1 run: ', (run_count-extra_runs)/num_of_games)"
   ]
  },
  {
   "cell_type": "markdown",
   "metadata": {},
   "source": [
    "Those with statistics experience will recognize a binomial distribution. Specific solutions for these cases can be easily calculated. Here's a nice video giving a bit of an explanation: <a href=\"https://www.youtube.com/watch?v=WWv0RUxDfbs\">Binomial distribution | Probability and Statistics | Khan Academy</a>. Note that there are many, many resources for this information. My goal here is to show using real data that these statistical properties are not signficantly affected by timeout strategies, not to show that binomial distributions behave in certain ways."
   ]
  }
 ],
 "metadata": {
  "kernelspec": {
   "display_name": "Python 3",
   "language": "python",
   "name": "python3"
  },
  "language_info": {
   "codemirror_mode": {
    "name": "ipython",
    "version": 3
   },
   "file_extension": ".py",
   "mimetype": "text/x-python",
   "name": "python",
   "nbconvert_exporter": "python",
   "pygments_lexer": "ipython3",
   "version": "3.6.2"
  }
 },
 "nbformat": 4,
 "nbformat_minor": 2
}
